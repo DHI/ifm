{
 "cells": [
  {
   "cell_type": "markdown",
   "metadata": {},
   "source": [
    "# Verification of FEFLOW using an analytical solution for a heat transport problem\n",
    "\n",
    "## Objective\n",
    "\n",
    "For verification of FEFLOWs heat transport solver, we compare the numerical solution by FEFLOW for a heat transport problem to the analytical solution suggested by Domenico and Palciauskas (1973). The problem describes the advective transport of heat by groundwater flow under steady- state conditions in a two-dimensional region. \n",
    "\n",
    "## Problem Description\n",
    "\n",
    "Buoyancy effects are neglected for this solution. Following Domenico and Palciauskas (1973), the porous medium is assumed to be isotropic and homogeneous with respect to both fluid and heat. The topography is described by a cosine function, to which the watertable is directly related to. \n",
    "The upper boundary of the region is therefore given by the spatially variable watertable (Equation 1), the lower boundary for the flow problem is considered as an impermeable basement (Figure 1a). Both lateral boundaries are impermeable. Boundary conditions for the heat transport problem include a fixed temperature T0 at the upper boundary, two impermeable lateral boundaries and a lower boundary that is described by the specific heat flow qb. "
   ]
  },
  {
   "cell_type": "markdown",
   "metadata": {
    "ExecuteTime": {
     "end_time": "2020-08-13T14:57:04.463788Z",
     "start_time": "2020-08-13T14:57:04.457755Z"
    }
   },
   "source": [
    "<img src=\"domenico_palciauskas_1.png\">"
   ]
  },
  {
   "cell_type": "markdown",
   "metadata": {},
   "source": [
    "***Figure 1***: *Two-dimensional diagrams showing (a) the boundary conditions for the flow problem, (b) the flow field for the water-table configuration A- B cos(πx/L), (c) the boundary conditions for the steady-state temperature distribution, and (d) the temperature field of pure conduction for a constant temperature upper boundary (From Domenico and Palciauskas, 1973).*"
   ]
  },
  {
   "cell_type": "markdown",
   "metadata": {},
   "source": [
    "## Analytical Solution\n",
    "\n",
    "The watertable at the upper boundary is described by:\n",
    "\n",
    "$$h(x)= A- cos⁡(πx⁄(L)) \\label{eq:1}\t$$\t\n",
    "\n",
    "The analytical solutions for hydraulic head and temperature are (adapted from Rühaak et al., 2008): \n",
    "\n",
    "$$h(x,z)= A-( (B cosh(πz⁄(L)))/(cosh⁡((πz_0)⁄(L))   ))  cos⁡(πx⁄(L))$$ [2]\t\n",
    "[3]\t\n",
    "\n",
    "$$T(x,z)= T_0 + \\frac{q_b}{(z_0 )- z} + \\frac{ρcq_b⁄λKB}{2λ)} \\frac{cos⁡(πx⁄L)}{cosh⁡(πz_0/L)} × \\{(z_0- z)cosh⁡(πz⁄(L)) + L⁄π \\frac{sinh⁡(π(z-z_0))⁄(L)}{cosh⁡((πz_0)⁄L}\\}  $$                                                         "
   ]
  },
  {
   "cell_type": "markdown",
   "metadata": {},
   "source": [
    "Constants A and B are defined as $A=L/2+B$, and $B=cosh(πz_0/L)$. A length of $L=200m$ in horizontal direction, and a vertical extent of $z_0=100m$ were used as domain for all simulations. Parameters are given in Table 1. "
   ]
  },
  {
   "cell_type": "markdown",
   "metadata": {},
   "source": [
    "## Numerical Solution in FEFLOW\n",
    "\n",
    "For FEFLOW simulations, no upwinding was applied, and algebraic multigrid SAMG was used for solving equation systems. Simulations were done for different grid setups. Grid No. 1 to 4 were obtained using the Transport mapping mesh generator (quadrilateral mode) of FEFLOW, whereas Grid No.5 was obtained by the Gridbuilding mesh generator. "
   ]
  },
  {
   "cell_type": "code",
   "execution_count": 2,
   "metadata": {
    "ExecuteTime": {
     "end_time": "2020-08-14T13:02:46.454809Z",
     "start_time": "2020-08-14T13:02:44.018104Z"
    }
   },
   "outputs": [
    {
     "data": {
      "text/html": [
       "<div>\n",
       "<style scoped>\n",
       "    .dataframe tbody tr th:only-of-type {\n",
       "        vertical-align: middle;\n",
       "    }\n",
       "\n",
       "    .dataframe tbody tr th {\n",
       "        vertical-align: top;\n",
       "    }\n",
       "\n",
       "    .dataframe thead th {\n",
       "        text-align: right;\n",
       "    }\n",
       "</style>\n",
       "<table border=\"1\" class=\"dataframe\">\n",
       "  <thead>\n",
       "    <tr style=\"text-align: right;\">\n",
       "      <th></th>\n",
       "      <th>Quantity</th>\n",
       "      <th>Value</th>\n",
       "      <th>Unit</th>\n",
       "    </tr>\n",
       "  </thead>\n",
       "  <tbody>\n",
       "    <tr>\n",
       "      <th>K</th>\n",
       "      <td>hydraulic conductivity</td>\n",
       "      <td>4.89 · 10-8</td>\n",
       "      <td>m s-1</td>\n",
       "    </tr>\n",
       "    <tr>\n",
       "      <th>ρ</th>\n",
       "      <td>density</td>\n",
       "      <td>998</td>\n",
       "      <td>kg m-3</td>\n",
       "    </tr>\n",
       "    <tr>\n",
       "      <th>T0</th>\n",
       "      <td>temperature at upper boundary</td>\n",
       "      <td>10</td>\n",
       "      <td>°C</td>\n",
       "    </tr>\n",
       "    <tr>\n",
       "      <th>qb</th>\n",
       "      <td>specific heat flow at lower boundary</td>\n",
       "      <td>0.03</td>\n",
       "      <td>W m-2</td>\n",
       "    </tr>\n",
       "    <tr>\n",
       "      <th>ε</th>\n",
       "      <td>porosity</td>\n",
       "      <td>0.3</td>\n",
       "      <td>-</td>\n",
       "    </tr>\n",
       "    <tr>\n",
       "      <th>C</th>\n",
       "      <td>specific heat  capacity</td>\n",
       "      <td>4,218</td>\n",
       "      <td>J kg-1 K-1</td>\n",
       "    </tr>\n",
       "    <tr>\n",
       "      <th>λ</th>\n",
       "      <td>thermal  conductivity</td>\n",
       "      <td>3</td>\n",
       "      <td>W m-1 K-1</td>\n",
       "    </tr>\n",
       "    <tr>\n",
       "      <th>DL</th>\n",
       "      <td>longitudinal dispersivity</td>\n",
       "      <td>5</td>\n",
       "      <td>m</td>\n",
       "    </tr>\n",
       "    <tr>\n",
       "      <th>DT</th>\n",
       "      <td>transverse dispersivity</td>\n",
       "      <td>0.5</td>\n",
       "      <td>m</td>\n",
       "    </tr>\n",
       "  </tbody>\n",
       "</table>\n",
       "</div>"
      ],
      "text/plain": [
       "                               Quantity         Value        Unit\n",
       "K                 hydraulic conductivity  4.89 · 10-8       m s-1\n",
       "ρ                                density          998      kg m-3\n",
       "T0         temperature at upper boundary           10          °C\n",
       "qb  specific heat flow at lower boundary         0.03       W m-2\n",
       "ε                              porosity           0.3           -\n",
       "C                specific heat  capacity        4,218  J kg-1 K-1\n",
       "λ                  thermal  conductivity            3   W m-1 K-1\n",
       "DL             longitudinal dispersivity            5           m\n",
       "DT               transverse dispersivity          0.5           m"
      ]
     },
     "execution_count": 2,
     "metadata": {},
     "output_type": "execute_result"
    }
   ],
   "source": [
    "import pandas as pd\n",
    "pd.read_excel(\"table_1.xlsx\", index_col=0)"
   ]
  },
  {
   "cell_type": "markdown",
   "metadata": {},
   "source": [
    "For quantifying variations in between analytical and numerical solutions, the root mean square error (RMSE) was calculated for both head and temperature (Equation 4). Additionally, the relative deviation was calculated (Equation 5). In Figure 2  and 3, the analytical solution for head and temperature, as well as the relative deviations are depicted. "
   ]
  },
  {
   "cell_type": "code",
   "execution_count": null,
   "metadata": {
    "ExecuteTime": {
     "end_time": "2020-08-13T22:09:13.344746Z",
     "start_time": "2020-08-13T22:09:13.293723Z"
    }
   },
   "outputs": [],
   "source": [
    "import numpy as np\n",
    "import matplotlib.pyplot as plt\n",
    "import ifm_contrib as ifm\n",
    "ifm.forceLicense(\"Viewer\")\n",
    "doc = ifm.loadDocument(\"./model_numeric/femdata/grid_1_are.fem\")\n",
    "#doc.c.user.df.distributions()\n",
    "#ifm.colormaps.cmaps"
   ]
  },
  {
   "cell_type": "code",
   "execution_count": 75,
   "metadata": {
    "ExecuteTime": {
     "end_time": "2020-08-13T22:24:30.487423Z",
     "start_time": "2020-08-13T22:24:27.347594Z"
    }
   },
   "outputs": [
    {
     "data": {
      "text/plain": [
       "<matplotlib.tri.tricontour.TriContourSet at 0x2982f18c8d0>"
      ]
     },
     "execution_count": 75,
     "metadata": {},
     "output_type": "execute_result"
    },
    {
     "data": {
      "image/png": "[encoded data removed]",
      "text/plain": [
       "<Figure size 576x900 with 3 Axes>"
      ]
     },
     "metadata": {
      "needs_background": "light"
     },
     "output_type": "display_data"
    }
   ],
   "source": [
    "fig, (ax1, ax2, ax3) = plt.subplots(3, figsize=(8, 12.5))\n",
    "\n",
    "plt.sca(ax1)\n",
    "plt.axis(\"equal\")\n",
    "plt.title = \"head (analytic)\"\n",
    "doc.c.plot.faces()\n",
    "doc.c.plot.fringes(distr=\"head_analytic\", cmap='feflow_white_blue', levels=np.arange(100,111, .5))\n",
    "\n",
    "plt.sca(ax2)\n",
    "plt.axis(\"equal\")\n",
    "plt.title = \"head (numeric)\"\n",
    "doc.c.plot.faces()\n",
    "doc.c.plot.fringes(par=ifm.Enum.P_HEAD, cmap='feflow_white_blue', levels=np.arange(100,111, .5))\n",
    "\n",
    "plt.sca(ax3)\n",
    "plt.axis(\"equal\")\n",
    "plt.title = \"Delta\"\n",
    "doc.c.plot.faces()\n",
    "doc.c.plot.fringes(expr=\"delta_h\", cmap='feflow_blue_green_yellow_red', levels=np.arange(-0.002, +0.002, .0001))\n",
    "\n"
   ]
  },
  {
   "cell_type": "code",
   "execution_count": 81,
   "metadata": {
    "ExecuteTime": {
     "end_time": "2020-08-13T22:27:40.194254Z",
     "start_time": "2020-08-13T22:27:37.221177Z"
    }
   },
   "outputs": [
    {
     "data": {
      "text/plain": [
       "<matplotlib.tri.tricontour.TriContourSet at 0x2984ed88588>"
      ]
     },
     "execution_count": 81,
     "metadata": {},
     "output_type": "execute_result"
    },
    {
     "data": {
      "image/png": "[encoded data removed]",
      "text/plain": [
       "<Figure size 576x900 with 3 Axes>"
      ]
     },
     "metadata": {
      "needs_background": "light"
     },
     "output_type": "display_data"
    }
   ],
   "source": [
    "fig, (ax1, ax2, ax3) = plt.subplots(3, figsize=(8, 12.5))\n",
    "\n",
    "plt.sca(ax1)\n",
    "plt.axis(\"equal\")\n",
    "plt.title = \"head (analytic)\"\n",
    "doc.c.plot.faces()\n",
    "doc.c.plot.fringes(distr=\"temperature_analytic\", cmap='feflow_white_red', levels=np.arange(10, 11.5, .1))\n",
    "\n",
    "plt.sca(ax2)\n",
    "plt.axis(\"equal\")\n",
    "plt.title = \"head (numeric)\"\n",
    "doc.c.plot.faces()\n",
    "doc.c.plot.fringes(par=ifm.Enum.P_TEMP, cmap='feflow_white_red', levels=np.arange(10, 11.5, .1))\n",
    "\n",
    "plt.sca(ax3)\n",
    "plt.axis(\"equal\")\n",
    "plt.title = \"Delta\"\n",
    "doc.c.plot.faces()\n",
    "doc.c.plot.fringes(expr=\"delta_T\", cmap='feflow_blue_green_yellow_red', levels=np.arange(-0.01, +0.01, .001))\n",
    "\n"
   ]
  },
  {
   "cell_type": "markdown",
   "metadata": {
    "ExecuteTime": {
     "end_time": "2020-08-13T15:05:02.755840Z",
     "start_time": "2020-08-13T15:05:02.748845Z"
    }
   },
   "source": [
    "All simulations showed simular distributions within the flow domain, with a minimum of the relative deviation for the head at x= L/2, where a vertical equipotential line is found, and an increase in deviation with depth for temperature. RMSE are depicted for each simulation in Table 2. \n",
    "Results show that FEFLOW numerical solutions for this domain are only slightly dependent on mesh size, and RMSE ranges around 0.0056 for all simulations. \n"
   ]
  },
  {
   "cell_type": "markdown",
   "metadata": {
    "ExecuteTime": {
     "end_time": "2020-08-13T15:04:58.819617Z",
     "start_time": "2020-08-13T15:04:58.812619Z"
    }
   },
   "source": [
    "$$RMSE = \\sqrt{\\frac{1}{n} \\cdot \\Sigma_{i=1}^n (u_{an} - u_{nu})^2 }$$"
   ]
  },
  {
   "cell_type": "markdown",
   "metadata": {},
   "source": [
    "$$Relative Deviation= \\frac{|(u_{an} - u_{nu})|}{u_{an}}$$"
   ]
  },
  {
   "cell_type": "markdown",
   "metadata": {},
   "source": [
    "| GRID                                                        | RMSE (head)    | RMSE (temperature)             |\n",
    "|:------------------------------------------------------------|:---------------|:-------------------------------|\n",
    "| Grid 1: Rectangular dz=dx=5m 800 elements 861 nodes         | 8.31 · 10-4    | 5.55 · 10-3                    |\n",
    "| Grid 2: Rectangular dz=dx=1m 20,000 elements 20,301 nodes   | 3.30 · 10-5    | 5.60 · 10-3                    |\n",
    "| Grid 3: Rectangular dz=dx=0.5m 80,000 elements 80,601 nodes | 8.26 · 10-6    | 5.60 · 10-3                    |\n",
    "| Grid 4: Triangular, regular <br> (4 equil.triangles around center) 20,000 elements 40,301 nodes | 1.66 ·10-5 | 5.60 · 10-3    |\n",
    "| Grid 5: Triangular, Irregular <br> 29,564 elements 14,972 nodes |  3.44 · 10-5   | 5.61 · 10-3    |"
   ]
  },
  {
   "cell_type": "markdown",
   "metadata": {
    "ExecuteTime": {
     "end_time": "2020-08-13T15:22:41.906465Z",
     "start_time": "2020-08-13T15:22:41.897503Z"
    }
   },
   "source": [
    "References: \n",
    "+ Domenico, P.A.  and Palciauskas, V.V. (1973). Theoretical Analyis of Forced Convective Heat Transfer in Regional Ground- Water Flow. Geol Soc Am Bull 1973;84:3803-14.\n",
    "+ Rühaak, W.,  Rath, V., Wolf A. and Clauser, C.(2008). 3D finite volume groundwater and heat transport modeling with non-orthogonal grids, using a coordinate transformation method. Adv in Wat Res, 31 (2008) 513-524.\n"
   ]
  }
 ],
 "metadata": {
  "hide_input": false,
  "kernelspec": {
   "display_name": "py36_dhi",
   "language": "python",
   "name": "py36_dhi"
  },
  "language_info": {
   "codemirror_mode": {
    "name": "ipython",
    "version": 3
   },
   "file_extension": ".py",
   "mimetype": "text/x-python",
   "name": "python",
   "nbconvert_exporter": "python",
   "pygments_lexer": "ipython3",
   "version": "3.6.10"
  },
  "toc": {
   "nav_menu": {},
   "number_sections": true,
   "sideBar": true,
   "skip_h1_title": true,
   "toc_cell": false,
   "toc_position": {},
   "toc_section_display": "block",
   "toc_window_display": true
  },
  "varInspector": {
   "cols": {
    "lenName": 16,
    "lenType": 16,
    "lenVar": 40
   },
   "kernels_config": {
    "python": {
     "delete_cmd_postfix": "",
     "delete_cmd_prefix": "del ",
     "library": "var_list.py",
     "varRefreshCmd": "print(var_dic_list())"
    },
    "r": {
     "delete_cmd_postfix": ") ",
     "delete_cmd_prefix": "rm(",
     "library": "var_list.r",
     "varRefreshCmd": "cat(var_dic_list()) "
    }
   },
   "types_to_exclude": [
    "module",
    "function",
    "builtin_function_or_method",
    "instance",
    "_Feature"
   ],
   "window_display": false
  }
 },
 "nbformat": 4,
 "nbformat_minor": 2
}

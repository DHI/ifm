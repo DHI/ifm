{
 "cells": [
  {
   "cell_type": "markdown",
   "metadata": {},
   "source": [
    "# Adding layer number to streamlines output\n",
    "\n",
    "**A method to add information about streamlines to output shape-file**\n",
    "\n",
    "This script uses a shape-file containing the points of streamlines exported from a FEFLOW simulation and adds a column with the according layer number of each point."
   ]
  },
  {
   "cell_type": "markdown",
   "metadata": {},
   "source": [
    "Firstly the files have to be defined: a fem-file is needed as reference to locate the exported points, shp is the exported shapefile and shp2 the edited shapefile that will be saved in the end."
   ]
  },
  {
   "cell_type": "code",
   "execution_count": 1,
   "metadata": {},
   "outputs": [
    {
     "name": "stdout",
     "output_type": "stream",
     "text": [
      "FEFLOW version:  7305\n"
     ]
    }
   ],
   "source": [
    "import sys\n",
    "import geopandas as gpd\n",
    "import ifm_contrib as ifm\n",
    "\n",
    "print(\"FEFLOW version: \", ifm.getKernelVersion())\n",
    "\n",
    "fem = \"../../data/unittests/models/box_mlw.fem\"\n",
    "shp = \"../../data/unittests/import+export/streamlines.shp\"\n",
    "shp2 = \"../../data/unittests/import+export/streamlines_ln.shp\""
   ]
  },
  {
   "cell_type": "markdown",
   "metadata": {},
   "source": [
    "This function will detect the layer number of each point of the exported shp. \n",
    "\n",
    "*Note that due to numerical roundings points might lay slightly outside the model. In this case \"none\" is applied instead of layer number.*"
   ]
  },
  {
   "cell_type": "code",
   "execution_count": 2,
   "metadata": {},
   "outputs": [],
   "source": [
    "def findLayer(doc, x, y, z):\n",
    "    element = doc.findElementAtXYZ(x, y, z)\n",
    "    layer = 0\n",
    "    for l in range(1,lll+1):\n",
    "        \n",
    "        if type(element)!= int:\n",
    "            layer = \"none\"\n",
    "            break\n",
    "            \n",
    "        elif element - l*ee <= 0:\n",
    "            layer = l\n",
    "            break\n",
    "        \n",
    "        else:\n",
    "            continue\n",
    "        \n",
    "    return(layer)"
   ]
  },
  {
   "cell_type": "code",
   "execution_count": 3,
   "metadata": {},
   "outputs": [],
   "source": [
    "gdf = gpd.read_file(shp)\n",
    "\n",
    "doc = ifm.loadDocument(fem)\n",
    "\n",
    "origin_x = doc.getOriginX()\n",
    "origin_y = doc.getOriginY()\n",
    "origin_z = doc.getOriginZ()\n",
    "\n",
    "gdf ['x'] = gdf['X'] - origin_x\n",
    "gdf ['y'] = gdf['Y'] - origin_y\n",
    "gdf ['z'] = gdf['Z'] - origin_z\n",
    "\n",
    "ee = doc.getNumberOfElementsPerLayer()\n",
    "lll = doc.getNumberOfLayers()"
   ]
  },
  {
   "cell_type": "code",
   "execution_count": 4,
   "metadata": {},
   "outputs": [],
   "source": [
    "gdf['layer_nr'] = gdf.apply(lambda row: findLayer(doc, row['x'], row['y'], row['z']), axis=1)\n",
    "gdf.to_file(shp2)"
   ]
  }
 ],
 "metadata": {
  "kernelspec": {
   "display_name": "py36_dhi",
   "language": "python",
   "name": "py36_dhi"
  },
  "language_info": {
   "codemirror_mode": {
    "name": "ipython",
    "version": 3
   },
   "file_extension": ".py",
   "mimetype": "text/x-python",
   "name": "python",
   "nbconvert_exporter": "python",
   "pygments_lexer": "ipython3",
   "version": "3.6.11"
  }
 },
 "nbformat": 4,
 "nbformat_minor": 4
}

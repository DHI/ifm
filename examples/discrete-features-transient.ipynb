{
 "cells": [
  {
   "cell_type": "markdown",
   "metadata": {},
   "source": [
    "# Changing Properties of Discrete Feature Elements\n",
    "\n",
    "A simple example to change properties of Discrete Features Elements in FEFLOW.\n",
    "\n",
    "The example model is a box, with constant hydraulic head boundary conditions at the top (northern) and bottom (southern) border, causing an upwards flow.\n",
    "\n",
    "Along its center is a 1D Discrete feature, which will be activated and deactivated during the transient simulation by setting its cross-sectional area property to 0 m² (inactive) or 1 m² (active).\n",
    "\n",
    "Note that it is not possible to create Discrete Feature Elements while the Simulator is active.\n",
    "\n",
    "*Note: This example uses ifm_contrib for non-essential features like plotting to keep the code concise. See [(dhi.github.com/ifm_contrib](dhi.github.com/ifm_contrib)* for more information."
   ]
  },
  {
   "cell_type": "code",
   "execution_count": 1,
   "metadata": {
    "ExecuteTime": {
     "end_time": "2021-02-26T13:40:24.533441Z",
     "start_time": "2021-02-26T13:40:23.238527Z"
    }
   },
   "outputs": [
    {
     "data": {
      "text/plain": [
       "True"
      ]
     },
     "execution_count": 1,
     "metadata": {},
     "output_type": "execute_result"
    }
   ],
   "source": [
    "import ifm_contrib as ifm\n",
    "import matplotlib.pyplot as plt\n",
    "\n",
    "# load the example model and start the simulation till day 20.\n",
    "doc = ifm.loadDocument(\"./discrete-features/femdata/box_dfe.fem\")\n",
    "doc.runTo(20.)"
   ]
  },
  {
   "cell_type": "markdown",
   "metadata": {
    "ExecuteTime": {
     "end_time": "2021-02-26T13:18:02.244495Z",
     "start_time": "2021-02-26T13:18:02.221531Z"
    }
   },
   "source": [
    "Initially, the cross-section of the DFEs is set to zero. The DFE is thus inactive and does not influence the darcy-velocity."
   ]
  },
  {
   "cell_type": "code",
   "execution_count": 2,
   "metadata": {
    "ExecuteTime": {
     "end_time": "2021-02-26T13:40:26.037103Z",
     "start_time": "2021-02-26T13:40:25.711611Z"
    }
   },
   "outputs": [
    {
     "data": {
      "image/png": "[encoded data removed]",
      "text/plain": [
       "<Figure size 288x288 with 1 Axes>"
      ]
     },
     "metadata": {
      "needs_background": "light"
     },
     "output_type": "display_data"
    }
   ],
   "source": [
    "def plot_model():\n",
    "\n",
    "    # plot head isocontours\n",
    "    fig, ax1 = plt.subplots(figsize=(4, 4))\n",
    "    doc.c.plot.faces()\n",
    "    doc.c.plot.fringes(par=ifm.Enum.P_HEAD)\n",
    "    ax1.axis(\"equal\")\n",
    "\n",
    "    # plot DFE location\n",
    "    y_max = doc.c.dfe.df.dfe().y1.max()\n",
    "    y_min = doc.c.dfe.df.dfe().y2.min()\n",
    "    x = doc.c.dfe.df.dfe().x1.mean()\n",
    "    plt.plot([x,x], [y_min, y_max], color=\"white\")\n",
    "    \n",
    "    plt.show()\n",
    "\n",
    "plot_model()"
   ]
  },
  {
   "cell_type": "markdown",
   "metadata": {},
   "source": [
    "The following code iterates through the DFE in the model and sets the cross-section area to the specified value:"
   ]
  },
  {
   "cell_type": "code",
   "execution_count": 3,
   "metadata": {
    "ExecuteTime": {
     "end_time": "2021-02-26T13:40:30.125297Z",
     "start_time": "2021-02-26T13:40:30.119302Z"
    }
   },
   "outputs": [],
   "source": [
    "def set_area(area):\n",
    "    for dfe in range(doc.getNumberOf1DFractureElements()):\n",
    "        doc.setFracArea(dfe, \n",
    "                        area, \n",
    "                        ifm.Enum.ALL_FRAC_TYPES, \n",
    "                        ifm.Enum.ALL_FRAC_MODES, \n",
    "                        ifm.Enum.ALL_FRAC_LAWS )\n",
    "\n",
    "set_area(1.)"
   ]
  },
  {
   "cell_type": "code",
   "execution_count": 4,
   "metadata": {
    "ExecuteTime": {
     "end_time": "2021-02-26T13:40:31.871911Z",
     "start_time": "2021-02-26T13:40:31.521806Z"
    }
   },
   "outputs": [
    {
     "data": {
      "image/png": "[encoded data removed]",
      "text/plain": [
       "<Figure size 288x288 with 1 Axes>"
      ]
     },
     "metadata": {
      "needs_background": "light"
     },
     "output_type": "display_data"
    }
   ],
   "source": [
    "# continue the run to day 40 and show result again\n",
    "doc.runTo(40.)\n",
    "plot_model()"
   ]
  },
  {
   "cell_type": "markdown",
   "metadata": {},
   "source": [
    "The DFE is now active and creates a preferential flow path.\n",
    "This can be reversed by setting the cross-sectional area back to zero.\n",
    "\n",
    "The model run is continued for another 20 days."
   ]
  },
  {
   "cell_type": "code",
   "execution_count": 5,
   "metadata": {
    "ExecuteTime": {
     "end_time": "2021-02-26T13:42:17.807495Z",
     "start_time": "2021-02-26T13:42:17.409541Z"
    }
   },
   "outputs": [
    {
     "data": {
      "image/png": "[encoded data removed]",
      "text/plain": [
       "<Figure size 288x288 with 1 Axes>"
      ]
     },
     "metadata": {
      "needs_background": "light"
     },
     "output_type": "display_data"
    }
   ],
   "source": [
    "# deactivate the DFEs and continue the run to day 60 and show result again\n",
    "set_area(0.)\n",
    "doc.runTo(60.)\n",
    "plot_model()"
   ]
  },
  {
   "cell_type": "markdown",
   "metadata": {},
   "source": [
    "The transient behaviour of the DFE can be seen by the variation of the total flow rate that passes through the model (1 m³/d without DFE, ~1.75 m³/d with DFE:"
   ]
  },
  {
   "cell_type": "code",
   "execution_count": 6,
   "metadata": {
    "ExecuteTime": {
     "end_time": "2021-02-26T13:42:31.165758Z",
     "start_time": "2021-02-26T13:42:30.968070Z"
    },
    "scrolled": true
   },
   "outputs": [
    {
     "data": {
      "image/png": "[encoded data removed]",
      "text/plain": [
       "<Figure size 432x288 with 1 Axes>"
      ]
     },
     "metadata": {
      "needs_background": "light"
     },
     "output_type": "display_data"
    }
   ],
   "source": [
    "# fluxes with DFE active : 1.747389 m³/d\n",
    "doc.c.hist.df.FFLUX.plot()\n",
    "plt.grid()"
   ]
  }
 ],
 "metadata": {
  "hide_input": false,
  "kernelspec": {
   "display_name": "py36_dhi",
   "language": "python",
   "name": "py36_dhi"
  },
  "language_info": {
   "codemirror_mode": {
    "name": "ipython",
    "version": 3
   },
   "file_extension": ".py",
   "mimetype": "text/x-python",
   "name": "python",
   "nbconvert_exporter": "python",
   "pygments_lexer": "ipython3",
   "version": "3.6.10"
  },
  "toc": {
   "nav_menu": {},
   "number_sections": true,
   "sideBar": true,
   "skip_h1_title": true,
   "toc_cell": false,
   "toc_position": {},
   "toc_section_display": "block",
   "toc_window_display": false
  },
  "varInspector": {
   "cols": {
    "lenName": 16,
    "lenType": 16,
    "lenVar": 40
   },
   "kernels_config": {
    "python": {
     "delete_cmd_postfix": "",
     "delete_cmd_prefix": "del ",
     "library": "var_list.py",
     "varRefreshCmd": "print(var_dic_list())"
    },
    "r": {
     "delete_cmd_postfix": ") ",
     "delete_cmd_prefix": "rm(",
     "library": "var_list.r",
     "varRefreshCmd": "cat(var_dic_list()) "
    }
   },
   "types_to_exclude": [
    "module",
    "function",
    "builtin_function_or_method",
    "instance",
    "_Feature"
   ],
   "window_display": false
  }
 },
 "nbformat": 4,
 "nbformat_minor": 2
}

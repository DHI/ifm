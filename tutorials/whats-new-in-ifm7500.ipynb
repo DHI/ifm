{
 "cells": [
  {
   "cell_type": "markdown",
   "metadata": {},
   "source": [
    "# What's New in FEFLOW 7.5 IFM API ?\n",
    "\n",
    "*contact: mike.de@dhigroup.com*\n",
    "\n",
    "With FEFLOW 7.5, we have added a number of additional features to FEFLOWS Python Programming interface IFM:\n",
    "\n",
    "+ Access to the **Lookup Table**\n",
    "+ Setting **Solver Type**\n",
    "+ Setting **Number of Threads** for parallel computation\n",
    "\n",
    "This document shows examples to get you up to speed.\n",
    "\n",
    "*Note that we are using functionality of the `ifm_contrib` project in some cases, to save unnecessary conde lines and to keep this document concise. `ifm_contrib` is a community project that extents the `ifm` library with additional functionality. You can find more information [here](github.com/dhi/ifm_contrib).*"
   ]
  },
  {
   "cell_type": "code",
   "execution_count": 1,
   "metadata": {},
   "outputs": [
    {
     "name": "stdout",
     "output_type": "stream",
     "text": [
      "This is FEFLOW 7.458 (build 19494).\n"
     ]
    }
   ],
   "source": [
    "import os\n",
    "import sys\n",
    "import pandas as pd\n",
    "\n",
    "import matplotlib.pyplot as plt\n",
    "\n",
    "os.environ[\"FEFLOW_KERNEL_VERSION\"] = \"75\"  # use the FEFLOW 7.4 API\n",
    "import ifm_contrib as ifm  # ifm_contrib is code compatible with ifm.\n",
    "\n",
    "print(f\"This is FEFLOW {ifm.getKernelVersion()/1000} (build {ifm.getKernelRevision()}).\")"
   ]
  },
  {
   "cell_type": "code",
   "execution_count": 2,
   "metadata": {},
   "outputs": [],
   "source": [
    "# load an example\n",
    "ifm.forceLicense(\"Viewer\")\n",
    "doc = ifm.loadDocument(\"../data/unittests/models/example_2D.fem\")"
   ]
  },
  {
   "cell_type": "markdown",
   "metadata": {},
   "source": [
    "## Lookup Tables\n",
    "\n",
    "FEFLOW 7.5 introduces lookup tables that allows the assignment of material parameters to elements that have previously been defined to an abstract material type.\n",
    "\n",
    "**Access the LookupTable**\n",
    "\n",
    "To access the Lookuptable, run `doc.LookupTable()` to retrieve the table as a Python object.\n",
    "\n"
   ]
  },
  {
   "cell_type": "code",
   "execution_count": 3,
   "metadata": {},
   "outputs": [],
   "source": [
    "lookup = doc.getLookupTable()\n",
    "# note that the table is empty at this point"
   ]
  },
  {
   "cell_type": "markdown",
   "metadata": {},
   "source": [
    "**Adding and Removing Materials**\n",
    "\n",
    "The list of materials can be edited using the following functions"
   ]
  },
  {
   "cell_type": "code",
   "execution_count": 5,
   "metadata": {},
   "outputs": [
    {
     "data": {
      "text/plain": [
       "3"
      ]
     },
     "execution_count": 5,
     "metadata": {},
     "output_type": "execute_result"
    }
   ],
   "source": [
    "# create new materials\n",
    "lookup.addMaterial(\"Sand\")\n",
    "lookup.addMaterial(\"Clay\")\n",
    "lookup.addMaterial(\"Bedrock\")"
   ]
  },
  {
   "cell_type": "markdown",
   "metadata": {},
   "source": [
    "Note that the function returns the Material ID of the material just created. Material ID starts with 1 for consistency with the GUI.\n"
   ]
  },
  {
   "cell_type": "code",
   "execution_count": 6,
   "metadata": {},
   "outputs": [
    {
     "name": "stdout",
     "output_type": "stream",
     "text": [
      "1\n"
     ]
    }
   ],
   "source": [
    "# you can get the material ID from a single existing material ..\n",
    "mat_id = lookup.findMaterial(\"Sand\")\n",
    "print(mat_id)"
   ]
  },
  {
   "cell_type": "code",
   "execution_count": 7,
   "metadata": {},
   "outputs": [
    {
     "data": {
      "text/plain": [
       "'Sand'"
      ]
     },
     "execution_count": 7,
     "metadata": {},
     "output_type": "execute_result"
    }
   ],
   "source": [
    "# ... and vice versa with\n",
    "lookup.getMaterialName(1)"
   ]
  },
  {
   "cell_type": "code",
   "execution_count": 8,
   "metadata": {},
   "outputs": [
    {
     "data": {
      "text/plain": [
       "{'Sand': 1, 'Clay': 2, 'Bedrock': 3}"
      ]
     },
     "execution_count": 8,
     "metadata": {},
     "output_type": "execute_result"
    }
   ],
   "source": [
    "# alternatively, this gives you a dictionary of all materials \n",
    "# in one shot:\n",
    "lookup.getMaterials()"
   ]
  },
  {
   "cell_type": "code",
   "execution_count": 10,
   "metadata": {},
   "outputs": [
    {
     "data": {
      "text/plain": [
       "{'Sand': 1, 'Clay': 2, 'Bedrock': 3}"
      ]
     },
     "execution_count": 10,
     "metadata": {},
     "output_type": "execute_result"
    }
   ],
   "source": [
    "# Material IDs can be arbitrarily set\n",
    "# example: Move 'Sand' to first position (=zero)  \n",
    "lookup.moveMaterial(lookup.findMaterial(\"Sand\"), 0)\n",
    "\n",
    "lookup.getMaterials()"
   ]
  },
  {
   "cell_type": "code",
   "execution_count": 11,
   "metadata": {},
   "outputs": [
    {
     "data": {
      "text/plain": [
       "{'Sand': 10, 'Clay': 2, 'Bedrock': 3}"
      ]
     },
     "execution_count": 11,
     "metadata": {},
     "output_type": "execute_result"
    }
   ],
   "source": [
    "# assign a different ID\n",
    "lookup.setMaterialId(lookup.findMaterial(\"Sand\"), 10)\n",
    "\n",
    "lookup.getMaterials()"
   ]
  },
  {
   "cell_type": "code",
   "execution_count": 12,
   "metadata": {},
   "outputs": [
    {
     "data": {
      "text/plain": [
       "{'Sand': 10, 'Clay': 2, 'Granite': 3}"
      ]
     },
     "execution_count": 12,
     "metadata": {},
     "output_type": "execute_result"
    }
   ],
   "source": [
    "# rename a material\n",
    "lookup.setMaterialName(lookup.findMaterial(\"Bedrock\"), \"Granite\")\n",
    "\n",
    "lookup.getMaterials()"
   ]
  },
  {
   "cell_type": "code",
   "execution_count": 13,
   "metadata": {},
   "outputs": [
    {
     "data": {
      "text/plain": [
       "{'Sand': 10, 'Clay': 2}"
      ]
     },
     "execution_count": 13,
     "metadata": {},
     "output_type": "execute_result"
    }
   ],
   "source": [
    "# finally removes a material\n",
    "lookup.removeMaterial(lookup.findMaterial(\"Granite\"))\n",
    "\n",
    "lookup.getMaterials()"
   ]
  },
  {
   "cell_type": "markdown",
   "metadata": {},
   "source": [
    "**Changing Properties**"
   ]
  },
  {
   "cell_type": "code",
   "execution_count": 14,
   "metadata": {},
   "outputs": [],
   "source": [
    "# a property can be added using the material id and parameter id, \n",
    "# as well es the value to be set\n",
    "lookup.setPropertyValue(lookup.findMaterial(\"Clay\"),\n",
    "                            ifm.Enum.P_COND,\n",
    "                            1e-6)\n",
    "\n",
    "lookup.setPropertyValue(lookup.findMaterial(\"Sand\"),\n",
    "                            ifm.Enum.P_COND,\n",
    "                            1e-4)\n",
    "\n",
    "lookup.setPropertyValue(lookup.findMaterial(\"Sand\"),\n",
    "                            ifm.Enum.P_PORO,\n",
    "                            1e-4)"
   ]
  },
  {
   "cell_type": "code",
   "execution_count": 15,
   "metadata": {},
   "outputs": [
    {
     "data": {
      "text/plain": [
       "1e-06"
      ]
     },
     "execution_count": 15,
     "metadata": {},
     "output_type": "execute_result"
    }
   ],
   "source": [
    "# the value can then be retrieved \n",
    "lookup.getPropertyValue(lookup.findMaterial(\"Clay\"), \n",
    "                        ifm.Enum.P_COND)"
   ]
  },
  {
   "cell_type": "code",
   "execution_count": 16,
   "metadata": {},
   "outputs": [
    {
     "data": {
      "text/plain": [
       "True"
      ]
     },
     "execution_count": 16,
     "metadata": {},
     "output_type": "execute_result"
    }
   ],
   "source": [
    "# this would usually be preceeded by a check if the material \n",
    "# is actually set\n",
    "lookup.hasProperty(lookup.findMaterial(\"Clay\"), \n",
    "                        ifm.Enum.P_COND)"
   ]
  },
  {
   "cell_type": "code",
   "execution_count": 17,
   "metadata": {},
   "outputs": [
    {
     "data": {
      "text/plain": [
       "{100: 1e-06}"
      ]
     },
     "execution_count": 17,
     "metadata": {},
     "output_type": "execute_result"
    }
   ],
   "source": [
    "# alternatively, you can retrieve the complete table in one go\n",
    "lookup.getProperties(lookup.findMaterial(\"Clay\"))"
   ]
  },
  {
   "cell_type": "code",
   "execution_count": 18,
   "metadata": {},
   "outputs": [],
   "source": [
    "# finally, a property can be removed\n",
    "lookup.removeProperty(lookup.findMaterial(\"Clay\"), \n",
    "                        ifm.Enum.P_COND)"
   ]
  },
  {
   "cell_type": "code",
   "execution_count": 20,
   "metadata": {},
   "outputs": [
    {
     "data": {
      "text/plain": [
       "{}"
      ]
     },
     "execution_count": 20,
     "metadata": {},
     "output_type": "execute_result"
    }
   ],
   "source": [
    "lookup.getProperties(lookup.findMaterial(\"Clay\"))"
   ]
  },
  {
   "cell_type": "markdown",
   "metadata": {},
   "source": [
    "**Assigning Time Series**\n",
    "\n",
    "Lookup tables allow to assign a time series to a material. (Note: that this is different from assigning time-varying material properties).\n",
    "\n",
    "\n",
    "\n"
   ]
  },
  {
   "cell_type": "code",
   "execution_count": 21,
   "metadata": {},
   "outputs": [
    {
     "ename": "TypeError",
     "evalue": "syntax: void lookup.setPropertyValue(int material_id, int param_id, object value)",
     "output_type": "error",
     "traceback": [
      "\u001b[1;31m---------------------------------------------------------------------------\u001b[0m",
      "\u001b[1;31mTypeError\u001b[0m                                 Traceback (most recent call last)",
      "\u001b[1;32m<ipython-input-21-b0a75cc4857a>\u001b[0m in \u001b[0;36m<module>\u001b[1;34m\u001b[0m\n\u001b[1;32m----> 1\u001b[1;33m \u001b[0mlookup\u001b[0m\u001b[1;33m.\u001b[0m\u001b[0msetPropertyValue\u001b[0m\u001b[1;33m(\u001b[0m\u001b[1;33m)\u001b[0m\u001b[1;33m\u001b[0m\u001b[1;33m\u001b[0m\u001b[0m\n\u001b[0m",
      "\u001b[1;31mTypeError\u001b[0m: syntax: void lookup.setPropertyValue(int material_id, int param_id, object value)"
     ]
    }
   ],
   "source": [
    "lookup.setPropertyValue()"
   ]
  },
  {
   "cell_type": "markdown",
   "metadata": {},
   "source": [
    "**Working with Pandas**\n",
    "\n",
    "For users working with the `pandas` Python library, the `ifm_contrib` extension can return the lookup table as a DataFrame:"
   ]
  },
  {
   "cell_type": "code",
   "execution_count": 22,
   "metadata": {},
   "outputs": [
    {
     "data": {
      "text/html": [
       "<div>\n",
       "<style scoped>\n",
       "    .dataframe tbody tr th:only-of-type {\n",
       "        vertical-align: middle;\n",
       "    }\n",
       "\n",
       "    .dataframe tbody tr th {\n",
       "        vertical-align: top;\n",
       "    }\n",
       "\n",
       "    .dataframe thead th {\n",
       "        text-align: right;\n",
       "    }\n",
       "</style>\n",
       "<table border=\"1\" class=\"dataframe\">\n",
       "  <thead>\n",
       "    <tr style=\"text-align: right;\">\n",
       "      <th></th>\n",
       "      <th>material_id</th>\n",
       "      <th>100</th>\n",
       "      <th>201</th>\n",
       "    </tr>\n",
       "    <tr>\n",
       "      <th>material_name</th>\n",
       "      <th></th>\n",
       "      <th></th>\n",
       "      <th></th>\n",
       "    </tr>\n",
       "  </thead>\n",
       "  <tbody>\n",
       "    <tr>\n",
       "      <th>Sand</th>\n",
       "      <td>10</td>\n",
       "      <td>0.0001</td>\n",
       "      <td>0.0001</td>\n",
       "    </tr>\n",
       "    <tr>\n",
       "      <th>Clay</th>\n",
       "      <td>2</td>\n",
       "      <td>NaN</td>\n",
       "      <td>NaN</td>\n",
       "    </tr>\n",
       "  </tbody>\n",
       "</table>\n",
       "</div>"
      ],
      "text/plain": [
       "               material_id     100     201\n",
       "material_name                             \n",
       "Sand                    10  0.0001  0.0001\n",
       "Clay                     2     NaN     NaN"
      ]
     },
     "execution_count": 22,
     "metadata": {},
     "output_type": "execute_result"
    }
   ],
   "source": [
    "doc.c.settings.df.lookup_table()"
   ]
  },
  {
   "cell_type": "code",
   "execution_count": 23,
   "metadata": {},
   "outputs": [
    {
     "data": {
      "text/html": [
       "<div>\n",
       "<style scoped>\n",
       "    .dataframe tbody tr th:only-of-type {\n",
       "        vertical-align: middle;\n",
       "    }\n",
       "\n",
       "    .dataframe tbody tr th {\n",
       "        vertical-align: top;\n",
       "    }\n",
       "\n",
       "    .dataframe thead th {\n",
       "        text-align: right;\n",
       "    }\n",
       "</style>\n",
       "<table border=\"1\" class=\"dataframe\">\n",
       "  <thead>\n",
       "    <tr style=\"text-align: right;\">\n",
       "      <th></th>\n",
       "      <th>material_name</th>\n",
       "      <th>100</th>\n",
       "      <th>201</th>\n",
       "    </tr>\n",
       "    <tr>\n",
       "      <th>material_id</th>\n",
       "      <th></th>\n",
       "      <th></th>\n",
       "      <th></th>\n",
       "    </tr>\n",
       "  </thead>\n",
       "  <tbody>\n",
       "    <tr>\n",
       "      <th>10</th>\n",
       "      <td>Sand</td>\n",
       "      <td>0.0001</td>\n",
       "      <td>0.0001</td>\n",
       "    </tr>\n",
       "    <tr>\n",
       "      <th>2</th>\n",
       "      <td>Clay</td>\n",
       "      <td>NaN</td>\n",
       "      <td>NaN</td>\n",
       "    </tr>\n",
       "  </tbody>\n",
       "</table>\n",
       "</div>"
      ],
      "text/plain": [
       "            material_name     100     201\n",
       "material_id                              \n",
       "10                   Sand  0.0001  0.0001\n",
       "2                    Clay     NaN     NaN"
      ]
     },
     "execution_count": 23,
     "metadata": {},
     "output_type": "execute_result"
    }
   ],
   "source": [
    "doc.c.settings.df.lookup_table(names_as_index=False)"
   ]
  },
  {
   "cell_type": "markdown",
   "metadata": {},
   "source": [
    "## Computation Settings\n",
    "\n",
    "### Solver Type\n",
    "\n",
    "From FEFLOW 7.5, it is possible to choose the most relevant solver option via the API:\n",
    "\n",
    "+ PARDISP (`pardiso`)\n",
    "+ PCG (`pcg`)\n",
    "+ SAMG (Algebraic Multigrid Sovler by Fraunhofer SCAI) (`samg`)\n",
    "+ PETSc Krylov Subspace Solver (`pksp` or `petsc_ksp`)\n",
    "+ PETSc Algebraic Multigrid Solver (`pamg` or `petsc_amg`)   \n",
    "\n",
    "The Solvers from the PETSc library are introduced with FEFLOW 7.5 release.\n",
    "\n"
   ]
  },
  {
   "cell_type": "code",
   "execution_count": 24,
   "metadata": {},
   "outputs": [],
   "source": [
    "doc.setSolver(\"petsc_amg\")"
   ]
  },
  {
   "cell_type": "markdown",
   "metadata": {},
   "source": [
    "### Thread Number\n",
    "\n",
    "From FEFLOW 7.5 onwards, it is possible to set the thread number for parallel computation."
   ]
  }
 ],
 "metadata": {
  "hide_input": false,
  "kernelspec": {
   "display_name": "py36_dhi",
   "language": "python",
   "name": "py36_dhi"
  },
  "language_info": {
   "codemirror_mode": {
    "name": "ipython",
    "version": 3
   },
   "file_extension": ".py",
   "mimetype": "text/x-python",
   "name": "python",
   "nbconvert_exporter": "python",
   "pygments_lexer": "ipython3",
   "version": "3.6.10"
  },
  "toc": {
   "nav_menu": {},
   "number_sections": true,
   "sideBar": true,
   "skip_h1_title": true,
   "toc_cell": false,
   "toc_position": {},
   "toc_section_display": "block",
   "toc_window_display": false
  },
  "varInspector": {
   "cols": {
    "lenName": 16,
    "lenType": 16,
    "lenVar": 40
   },
   "kernels_config": {
    "python": {
     "delete_cmd_postfix": "",
     "delete_cmd_prefix": "del ",
     "library": "var_list.py",
     "varRefreshCmd": "print(var_dic_list())"
    },
    "r": {
     "delete_cmd_postfix": ") ",
     "delete_cmd_prefix": "rm(",
     "library": "var_list.r",
     "varRefreshCmd": "cat(var_dic_list()) "
    }
   },
   "types_to_exclude": [
    "module",
    "function",
    "builtin_function_or_method",
    "instance",
    "_Feature"
   ],
   "window_display": false
  }
 },
 "nbformat": 4,
 "nbformat_minor": 2
}

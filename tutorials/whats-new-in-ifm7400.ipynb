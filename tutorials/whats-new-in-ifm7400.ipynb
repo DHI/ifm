{
 "cells": [
  {
   "cell_type": "markdown",
   "metadata": {},
   "source": [
    "# What's New in FEFLOW 7.4 IFM API\n",
    "\n",
    "*contact: are@dhigroup.com*\n",
    "\n",
    "This document gives a preview on new FEFLOW IFM API features for discussion."
   ]
  },
  {
   "cell_type": "code",
   "execution_count": 1,
   "metadata": {
    "ExecuteTime": {
     "end_time": "2020-08-19T07:52:33.521490Z",
     "start_time": "2020-08-19T07:52:31.133571Z"
    }
   },
   "outputs": [
    {
     "name": "stdout",
     "output_type": "stream",
     "text": [
      "FEFLOW 7.352, build 18841\n"
     ]
    }
   ],
   "source": [
    "import os\n",
    "import sys\n",
    "import pandas as pd\n",
    "\n",
    "import matplotlib.pyplot as plt\n",
    "\n",
    "os.environ[\"FEFLOW_KERNEL_VERSION\"] = \"74\"  # requires FEFLOW 7.4 API\n",
    "import ifm_contrib as ifm\n",
    "\n",
    "#ifm.forceLicense(\"Viewer\")\n",
    "\n",
    "print(f\"FEFLOW {ifm.getKernelVersion()/1000}, build {ifm.getKernelRevision()}\")"
   ]
  },
  {
   "cell_type": "code",
   "execution_count": 2,
   "metadata": {
    "ExecuteTime": {
     "end_time": "2020-08-19T07:52:34.264048Z",
     "start_time": "2020-08-19T07:52:34.073784Z"
    }
   },
   "outputs": [],
   "source": [
    "# load an example\n",
    "doc = ifm.loadDocument(\"../data/unittests/models/example_2D.dac\")"
   ]
  },
  {
   "cell_type": "markdown",
   "metadata": {},
   "source": [
    "## Working with Selections\n",
    "\n",
    "From FEFLOW 7.4, `getSelectionItems` and `setSelectionItems` allows to **manipulate selections in a pythonic way using native Python lists**. A new functionality is to **get/set the charting mode** for nodal (budgets) and elemental (content) selections."
   ]
  },
  {
   "cell_type": "code",
   "execution_count": 3,
   "metadata": {
    "ExecuteTime": {
     "end_time": "2020-08-19T07:52:35.505460Z",
     "start_time": "2020-08-19T07:52:35.449032Z"
    }
   },
   "outputs": [
    {
     "data": {
      "text/html": [
       "<div>\n",
       "<style scoped>\n",
       "    .dataframe tbody tr th:only-of-type {\n",
       "        vertical-align: middle;\n",
       "    }\n",
       "\n",
       "    .dataframe tbody tr th {\n",
       "        vertical-align: top;\n",
       "    }\n",
       "\n",
       "    .dataframe thead th {\n",
       "        text-align: right;\n",
       "    }\n",
       "</style>\n",
       "<table border=\"1\" class=\"dataframe\">\n",
       "  <thead>\n",
       "    <tr style=\"text-align: right;\">\n",
       "      <th></th>\n",
       "      <th>SEL_TYPE</th>\n",
       "      <th>SEL_ENUM</th>\n",
       "      <th>SEL_ID</th>\n",
       "      <th>N_ITEMS</th>\n",
       "    </tr>\n",
       "    <tr>\n",
       "      <th>selection_name</th>\n",
       "      <th></th>\n",
       "      <th></th>\n",
       "      <th></th>\n",
       "      <th></th>\n",
       "    </tr>\n",
       "  </thead>\n",
       "  <tbody>\n",
       "    <tr>\n",
       "      <th>west</th>\n",
       "      <td>nodes</td>\n",
       "      <td>0</td>\n",
       "      <td>0</td>\n",
       "      <td>20.0</td>\n",
       "    </tr>\n",
       "    <tr>\n",
       "      <th>east</th>\n",
       "      <td>nodes</td>\n",
       "      <td>0</td>\n",
       "      <td>1</td>\n",
       "      <td>12.0</td>\n",
       "    </tr>\n",
       "    <tr>\n",
       "      <th>abstraction_rate</th>\n",
       "      <td>nodes</td>\n",
       "      <td>0</td>\n",
       "      <td>2</td>\n",
       "      <td>2.0</td>\n",
       "    </tr>\n",
       "    <tr>\n",
       "      <th>upper_half</th>\n",
       "      <td>elements</td>\n",
       "      <td>1</td>\n",
       "      <td>0</td>\n",
       "      <td>420.0</td>\n",
       "    </tr>\n",
       "    <tr>\n",
       "      <th>conversiontest_el</th>\n",
       "      <td>elements</td>\n",
       "      <td>1</td>\n",
       "      <td>1</td>\n",
       "      <td>2.0</td>\n",
       "    </tr>\n",
       "  </tbody>\n",
       "</table>\n",
       "</div>"
      ],
      "text/plain": [
       "                   SEL_TYPE  SEL_ENUM SEL_ID  N_ITEMS\n",
       "selection_name                                       \n",
       "west                  nodes         0      0     20.0\n",
       "east                  nodes         0      1     12.0\n",
       "abstraction_rate      nodes         0      2      2.0\n",
       "upper_half         elements         1      0    420.0\n",
       "conversiontest_el  elements         1      1      2.0"
      ]
     },
     "execution_count": 3,
     "metadata": {},
     "output_type": "execute_result"
    }
   ],
   "source": [
    "# give an overview of the available selections.\n",
    "doc.c.sel.df.selections()"
   ]
  },
  {
   "cell_type": "markdown",
   "metadata": {},
   "source": [
    "### Get/Set Item Lists\n",
    "\n",
    "**get selection items**"
   ]
  },
  {
   "cell_type": "code",
   "execution_count": 4,
   "metadata": {
    "ExecuteTime": {
     "end_time": "2020-08-19T07:52:36.788823Z",
     "start_time": "2020-08-19T07:52:36.782333Z"
    }
   },
   "outputs": [
    {
     "data": {
      "text/plain": [
       "[0, 1, 2, 3, 4, 5, 6, 7, 8, 9, 10, 11, 12, 13, 14, 15, 16, 17, 18, 19]"
      ]
     },
     "execution_count": 4,
     "metadata": {},
     "output_type": "execute_result"
    }
   ],
   "source": [
    "# retrieve item sets as python lists\n",
    "doc.getSelectionItems(ifm.Enum.SEL_NODES, 0)"
   ]
  },
  {
   "cell_type": "code",
   "execution_count": 5,
   "metadata": {
    "ExecuteTime": {
     "end_time": "2020-08-19T07:52:37.323169Z",
     "start_time": "2020-08-19T07:52:37.317149Z"
    }
   },
   "outputs": [
    {
     "data": {
      "text/plain": [
       "[0, 1, 2, 3, 4, 5, 6, 7, 8, 9, 10, 11, 12, 13, 14, 15, 16, 17, 18, 19]"
      ]
     },
     "execution_count": 5,
     "metadata": {},
     "output_type": "execute_result"
    }
   ],
   "source": [
    "# same call, but adressing the selection by its name instead of its ID makes the call more readable\n",
    "doc.getSelectionItems(ifm.Enum.SEL_NODES, \"west\")"
   ]
  },
  {
   "cell_type": "markdown",
   "metadata": {},
   "source": [
    "**set selection items**"
   ]
  },
  {
   "cell_type": "code",
   "execution_count": 6,
   "metadata": {
    "ExecuteTime": {
     "end_time": "2020-08-19T07:52:38.399273Z",
     "start_time": "2020-08-19T07:52:38.395796Z"
    }
   },
   "outputs": [],
   "source": [
    "# updating the selection can occur in the same way\n",
    "doc.setSelectionItems(ifm.Enum.SEL_NODES, \"west\", [0,1,2])"
   ]
  },
  {
   "cell_type": "markdown",
   "metadata": {},
   "source": [
    "**Performing Operations during Set**\n",
    "\n",
    "On saving, the following operations can be performed:\n",
    "\n",
    "doc.setSelectionItems(ifm.Enum.SEL_NODES, \"west\", [0,1,2], SEL_OP)\n",
    "\n",
    "  \n",
    "      ifm.Enum.SOP_SET        = 0, /* Set selection */\n",
    "      ifm.Enum.SOP_INTERSECT  = 1, /* Intersect selection */\n",
    "      ifm.Enum.SOP_UNION      = 2, /* Union selection */\n",
    "      ifm.Enum.SOP_SUBTRACT   = 3 /* Subtract selection */\n"
   ]
  },
  {
   "cell_type": "code",
   "execution_count": 7,
   "metadata": {
    "ExecuteTime": {
     "end_time": "2020-08-19T07:52:39.406485Z",
     "start_time": "2020-08-19T07:52:39.401992Z"
    }
   },
   "outputs": [],
   "source": [
    "doc.setSelectionItems(ifm.Enum.SEL_NODES, \"west\", [0,1,2], ifm.Enum.SOP_INTERSECT)"
   ]
  },
  {
   "cell_type": "markdown",
   "metadata": {},
   "source": [
    "**Writing to Current Selection**\n",
    "\n",
    "Use an empty string `\"\"` to access current selection."
   ]
  },
  {
   "cell_type": "code",
   "execution_count": 8,
   "metadata": {
    "ExecuteTime": {
     "end_time": "2020-08-19T07:52:40.650385Z",
     "start_time": "2020-08-19T07:52:40.514021Z"
    }
   },
   "outputs": [
    {
     "ename": "RuntimeError",
     "evalue": "Index out of range: SetSelectionItems",
     "output_type": "error",
     "traceback": [
      "\u001b[1;31m---------------------------------------------------------------------------\u001b[0m",
      "\u001b[1;31mRuntimeError\u001b[0m                              Traceback (most recent call last)",
      "\u001b[1;32m<ipython-input-8-3a22b988e010>\u001b[0m in \u001b[0;36m<module>\u001b[1;34m\u001b[0m\n\u001b[1;32m----> 1\u001b[1;33m \u001b[0mdoc\u001b[0m\u001b[1;33m.\u001b[0m\u001b[0msetSelectionItems\u001b[0m\u001b[1;33m(\u001b[0m\u001b[0mifm\u001b[0m\u001b[1;33m.\u001b[0m\u001b[0mEnum\u001b[0m\u001b[1;33m.\u001b[0m\u001b[0mSEL_NODES\u001b[0m\u001b[1;33m,\u001b[0m \u001b[1;34m\"\"\u001b[0m\u001b[1;33m,\u001b[0m \u001b[1;33m[\u001b[0m\u001b[1;36m0\u001b[0m\u001b[1;33m,\u001b[0m\u001b[1;36m1\u001b[0m\u001b[1;33m,\u001b[0m\u001b[1;36m2\u001b[0m\u001b[1;33m]\u001b[0m\u001b[1;33m,\u001b[0m \u001b[0mifm\u001b[0m\u001b[1;33m.\u001b[0m\u001b[0mEnum\u001b[0m\u001b[1;33m.\u001b[0m\u001b[0mSOP_UNION\u001b[0m\u001b[1;33m)\u001b[0m  \u001b[1;31m# add these nodes to current nodal selection\u001b[0m\u001b[1;33m\u001b[0m\u001b[1;33m\u001b[0m\u001b[0m\n\u001b[0m",
      "\u001b[1;31mRuntimeError\u001b[0m: Index out of range: SetSelectionItems"
     ]
    }
   ],
   "source": [
    "doc.setSelectionItems(ifm.Enum.SEL_NODES, \"\", [0,1,2], ifm.Enum.SOP_UNION)  # add these nodes to current nodal selection"
   ]
  },
  {
   "cell_type": "markdown",
   "metadata": {},
   "source": [
    "<div class=\"alert alert-block alert-danger\">\n",
    "    Assign to Current Selection works different\n",
    "</div>"
   ]
  },
  {
   "cell_type": "markdown",
   "metadata": {},
   "source": [
    "### Set Budget / Content Charting Mode of Selections\n",
    "\n",
    "It is now possible to set the budget and content charting modes of nodal and elemental selections, respectively."
   ]
  },
  {
   "cell_type": "code",
   "execution_count": 9,
   "metadata": {
    "ExecuteTime": {
     "end_time": "2020-08-19T07:52:46.590156Z",
     "start_time": "2020-08-19T07:52:46.585188Z"
    }
   },
   "outputs": [
    {
     "data": {
      "text/plain": [
       "16"
      ]
     },
     "execution_count": 9,
     "metadata": {},
     "output_type": "execute_result"
    }
   ],
   "source": [
    "# retrieve the budget charting state of a nodal selection:\n",
    "doc.getDiagramBudgetMode(\"west\")"
   ]
  },
  {
   "cell_type": "code",
   "execution_count": 10,
   "metadata": {
    "ExecuteTime": {
     "end_time": "2020-08-19T07:52:47.015139Z",
     "start_time": "2020-08-19T07:52:47.009147Z"
    }
   },
   "outputs": [
    {
     "data": {
      "text/plain": [
       "0"
      ]
     },
     "execution_count": 10,
     "metadata": {},
     "output_type": "execute_result"
    }
   ],
   "source": [
    "# retrieve the content charting state of a nodal selection:\n",
    "doc.getDiagramContentType(\"upper_half\")"
   ]
  },
  {
   "cell_type": "markdown",
   "metadata": {},
   "source": [
    "The result corresponds to constants with prefix `DGR_` from the `ifm.Enum` object:"
   ]
  },
  {
   "cell_type": "code",
   "execution_count": 11,
   "metadata": {
    "ExecuteTime": {
     "end_time": "2020-08-19T07:52:47.974884Z",
     "start_time": "2020-08-19T07:52:47.967392Z"
    }
   },
   "outputs": [
    {
     "data": {
      "text/plain": [
       "{'DGR_BUDGET_BOUNDARY': 16,\n",
       " 'DGR_BUDGET_BULK': 19,\n",
       " 'DGR_BUDGET_INVALID': -1,\n",
       " 'DGR_BUDGET_NET': 37,\n",
       " 'DGR_BUDGET_NONE': 0,\n",
       " 'DGR_BUDGET_STORAGE': 28,\n",
       " 'DGR_BUDGET_TOTAL': 25,\n",
       " 'DGR_CONTENT_ENERGY_FLUID': 131072,\n",
       " 'DGR_CONTENT_ENERGY_SOLID': 262144,\n",
       " 'DGR_CONTENT_ENERGY_TOTAL': 524288,\n",
       " 'DGR_CONTENT_INVALID': -1,\n",
       " 'DGR_CONTENT_MASS_ABSORBED': 4096,\n",
       " 'DGR_CONTENT_MASS_AGE_DISSOLVED': 512,\n",
       " 'DGR_CONTENT_MASS_DISSOLVED': 64,\n",
       " 'DGR_CONTENT_MASS_EP_DISSOLVED': 256,\n",
       " 'DGR_CONTENT_MASS_EQUIL_ABSORBED': 128,\n",
       " 'DGR_CONTENT_MASS_LTE_DISSOLVED': 1024,\n",
       " 'DGR_CONTENT_NONE': 0,\n",
       " 'DGR_CONTENT_VOLUME_FLUID': 4,\n",
       " 'DGR_CONTENT_VOLUME_FLUID_HEAT': 32768,\n",
       " 'DGR_CONTENT_VOLUME_FLUID_SPECIES': 32,\n",
       " 'DGR_CONTENT_VOLUME_SOLID_HEAT': 65536,\n",
       " 'DGR_CONTENT_VOLUME_SOLID_SPECIES': 2048,\n",
       " 'DGR_CONTENT_VOLUME_TOTAL': 1,\n",
       " 'DGR_CONTENT_VOLUME_TOTAL_HEAT': 8192,\n",
       " 'DGR_CONTENT_VOLUME_TOTAL_SPECIES': 8,\n",
       " 'DGR_CONTENT_VOLUME_VOID': 2,\n",
       " 'DGR_CONTENT_VOLUME_VOID_HEAT': 16384,\n",
       " 'DGR_CONTENT_VOLUME_VOID_SPECIES': 16}"
      ]
     },
     "execution_count": 11,
     "metadata": {},
     "output_type": "execute_result"
    }
   ],
   "source": [
    "# list the relevant constants\n",
    "{c: eval(\"ifm.Enum.{}\".format(c)) for c in dir(ifm.Enum) if c.startswith(\"DGR_\")}"
   ]
  },
  {
   "cell_type": "markdown",
   "metadata": {},
   "source": [
    "**Setting the charting mode**"
   ]
  },
  {
   "cell_type": "code",
   "execution_count": 12,
   "metadata": {
    "ExecuteTime": {
     "end_time": "2020-08-19T07:52:48.947663Z",
     "start_time": "2020-08-19T07:52:48.942649Z"
    }
   },
   "outputs": [],
   "source": [
    "# set the diagram charting mode\n",
    "doc.pdoc.setDiagramBudgetMode(\"east\", ifm.Enum.DGR_BUDGET_STORAGE)\n",
    "doc.pdoc.setDiagramContentType(\"upper_half\", ifm.Enum.DGR_CONTENT_VOLUME_FLUID)"
   ]
  },
  {
   "cell_type": "markdown",
   "metadata": {},
   "source": [
    "Some history charts that were previously missing have been made available:"
   ]
  },
  {
   "cell_type": "code",
   "execution_count": 13,
   "metadata": {
    "ExecuteTime": {
     "end_time": "2020-08-19T07:52:49.859982Z",
     "start_time": "2020-08-19T07:52:49.852993Z"
    }
   },
   "outputs": [
    {
     "data": {
      "text/plain": [
       "{'HIST_CONTENT_AGE': 29,\n",
       " 'HIST_CONTENT_ENERGY': 30,\n",
       " 'HIST_CONTENT_EP': 28,\n",
       " 'HIST_CONTENT_HEAT': 26,\n",
       " 'HIST_CONTENT_MASS': 27,\n",
       " 'HIST_CONTENT_VOLUME': 24,\n",
       " 'HIST_CONTENT_VOLUME_MASS': 25}"
      ]
     },
     "execution_count": 13,
     "metadata": {},
     "output_type": "execute_result"
    }
   ],
   "source": [
    "# history-charts: content\n",
    "{c: eval(\"ifm.Enum.{}\".format(c)) for c in dir(ifm.Enum) if c.startswith(\"HIST_CONTENT_\")}"
   ]
  },
  {
   "cell_type": "markdown",
   "metadata": {},
   "source": [
    "## Improved Vectorized Parameter Access\n",
    "\n",
    "### improved access to parameters by ID and SubId\n",
    "\n",
    "Vectorized access to Parameter Values can now be done in a more human-readable fashion, using the classisc Parameter ID supplemented with a sub-id. \n",
    "\n",
    "In addition to improved human-readability, this method extends vectorized access to **user distributions, auxillary properties and species-related properties**.\n",
    "\n",
    "#### Accessing Auxillary Properties\n",
    "\n",
    "Auxillary Data can now be retrieved through `doc.getParamValue()` / `doc.getParamValues()` methods. The relevant Parameter ID is `ifm.Enum.P_AUXDIST_E` for elemental values and `ifm.Enum.P_AUXDIST_N` for nodal values, respectively. The specific Auxillary Value Type is then accessed through a sub-ID, as shown in the following examples.\n",
    "\n",
    "**Note**: Auxillary Data cannot be retrieved by other means than `doc.getParamValue()` / `doc.getParamValues()` "
   ]
  },
  {
   "cell_type": "code",
   "execution_count": 14,
   "metadata": {
    "ExecuteTime": {
     "end_time": "2020-08-19T07:52:50.833738Z",
     "start_time": "2020-08-19T07:52:50.822258Z"
    }
   },
   "outputs": [
    {
     "name": "stdout",
     "output_type": "stream",
     "text": [
      "auxAquiferThickness: Not for this model type\n",
      "auxAspectRatio: OK\n",
      "auxAspectRatioBeta: Not for this model type\n",
      "auxAspectRatioGamma: Not for this model type\n",
      "auxCFLCondition: Not for this model type\n",
      "auxConditionNumber: OK\n",
      "auxCourantNumber: Not for this model type\n",
      "auxDelaunayViolatingTriangles: OK\n",
      "auxElementalVolumes: OK\n",
      "auxElementDiameter: OK\n",
      "auxLayerThickness: Not for this model type\n",
      "auxMaxDihedralAngles: Not for this model type\n",
      "auxMinDihedralAngles: Not for this model type\n",
      "auxPecletNumber: Not for this model type\n",
      "auxPseudoSat: Not for this model type\n",
      "auxQuadrangleMaxAngles: OK\n",
      "auxRelPerm: Not for this model type\n",
      "auxSquishIndex: Not for this model type\n",
      "auxTriangleMaxAngles: OK\n"
     ]
    }
   ],
   "source": [
    "auxID_E = [\n",
    "'auxAquiferThickness',\n",
    "'auxAspectRatio',\n",
    "'auxAspectRatioBeta',\n",
    "'auxAspectRatioGamma',\n",
    "'auxCFLCondition',\n",
    "'auxConditionNumber',\n",
    "'auxCourantNumber',\n",
    "'auxDelaunayViolatingTriangles',\n",
    "'auxElementalVolumes',\n",
    "'auxElementDiameter',\n",
    "'auxLayerThickness',\n",
    "'auxMaxDihedralAngles',\n",
    "'auxMinDihedralAngles',\n",
    "'auxPecletNumber',\n",
    "'auxPseudoSat',\n",
    "'auxQuadrangleMaxAngles',\n",
    "'auxRelPerm',\n",
    "'auxSquishIndex',\n",
    "'auxTriangleMaxAngles']\n",
    "\n",
    "# test for elemental properties\n",
    "for id in auxID_E:\n",
    "    try:\n",
    "        #print(id)\n",
    "        param=doc.getParameter(ifm.Enum.P_AUXDIST_E, id)\n",
    "        if param != None:\n",
    "            v = doc.getParamValues(param)\n",
    "            print(id + ': OK')\n",
    "        else:\n",
    "            print(id + ': Not for this model type')\n",
    "        \n",
    "    except RuntimeError as e:\n",
    "        print(\"  \"+str(e))"
   ]
  },
  {
   "cell_type": "code",
   "execution_count": 15,
   "metadata": {
    "ExecuteTime": {
     "end_time": "2020-08-19T07:52:51.302641Z",
     "start_time": "2020-08-19T07:52:51.294150Z"
    }
   },
   "outputs": [
    {
     "name": "stdout",
     "output_type": "stream",
     "text": [
      "auxNodalDensity: out of scope!\n",
      "auxNodalDepth: out of scope!\n",
      "auxNodalViscosity: out of scope!\n",
      "auxSliceDistance: out of scope!\n",
      "auxStreamFunctionBoundaryIntegral: out of scope!\n",
      "auxStreamFunctionVorticityEquation: ok!\n"
     ]
    }
   ],
   "source": [
    "auxID_N = [\n",
    "'auxNodalDensity',\n",
    "'auxNodalDepth',\n",
    "'auxNodalViscosity',\n",
    "'auxSliceDistance',\n",
    "'auxStreamFunctionBoundaryIntegral',\n",
    "'auxStreamFunctionVorticityEquation']\n",
    " \n",
    "# test for nodal properties\n",
    "for id in auxID_N:\n",
    "    try:\n",
    "        #print(id)\n",
    "        param=doc.getParameter(ifm.Enum.P_AUXDIST_N, id)\n",
    "        if param != None:\n",
    "            v = doc.getParamValues(param)\n",
    "            print(id + ': ok!')\n",
    "        else:\n",
    "            print(id + ': out of scope!')\n",
    "        \n",
    "    except RuntimeError as e:\n",
    "        print(\"  \"+str(e))"
   ]
  },
  {
   "cell_type": "code",
   "execution_count": 16,
   "metadata": {
    "ExecuteTime": {
     "end_time": "2020-08-19T07:52:52.137117Z",
     "start_time": "2020-08-19T07:52:51.796936Z"
    }
   },
   "outputs": [
    {
     "data": {
      "text/plain": [
       "<matplotlib.axes._subplots.AxesSubplot at 0x20a31377278>"
      ]
     },
     "execution_count": 16,
     "metadata": {},
     "output_type": "execute_result"
    },
    {
     "data": {
      "image/png": "[encoded data removed]",
      "text/plain": [
       "<Figure size 432x288 with 1 Axes>"
      ]
     },
     "metadata": {
      "needs_background": "light"
     },
     "output_type": "display_data"
    }
   ],
   "source": [
    "# to do something useful, let's check the mesh quality \n",
    "param=doc.getParameter(ifm.Enum.P_AUXDIST_E, 'auxAspectRatio')\n",
    "v = doc.getParamValues(param)\n",
    "pd.DataFrame(v, columns=[\"auxAspectRatio\"]).plot.hist(bins=50)"
   ]
  },
  {
   "cell_type": "markdown",
   "metadata": {},
   "source": [
    "#### Accessing Multispecies-Related Properties\n",
    "\n",
    "To showcase, we load a different model with multiple species:"
   ]
  },
  {
   "cell_type": "code",
   "execution_count": 17,
   "metadata": {
    "ExecuteTime": {
     "end_time": "2020-08-19T07:52:52.784181Z",
     "start_time": "2020-08-19T07:52:52.664837Z"
    }
   },
   "outputs": [
    {
     "data": {
      "text/html": [
       "<div>\n",
       "<style scoped>\n",
       "    .dataframe tbody tr th:only-of-type {\n",
       "        vertical-align: middle;\n",
       "    }\n",
       "\n",
       "    .dataframe tbody tr th {\n",
       "        vertical-align: top;\n",
       "    }\n",
       "\n",
       "    .dataframe thead th {\n",
       "        text-align: right;\n",
       "    }\n",
       "</style>\n",
       "<table border=\"1\" class=\"dataframe\">\n",
       "  <thead>\n",
       "    <tr style=\"text-align: right;\">\n",
       "      <th></th>\n",
       "      <th>Name</th>\n",
       "      <th>Type</th>\n",
       "      <th>PhaseType</th>\n",
       "      <th>SpeciesKineticsType</th>\n",
       "    </tr>\n",
       "    <tr>\n",
       "      <th>SpeciesID</th>\n",
       "      <th></th>\n",
       "      <th></th>\n",
       "      <th></th>\n",
       "      <th></th>\n",
       "    </tr>\n",
       "  </thead>\n",
       "  <tbody>\n",
       "    <tr>\n",
       "      <th>0</th>\n",
       "      <td>Sodium</td>\n",
       "      <td>0</td>\n",
       "      <td>0</td>\n",
       "      <td>0</td>\n",
       "    </tr>\n",
       "    <tr>\n",
       "      <th>1</th>\n",
       "      <td>Potassium</td>\n",
       "      <td>0</td>\n",
       "      <td>0</td>\n",
       "      <td>0</td>\n",
       "    </tr>\n",
       "    <tr>\n",
       "      <th>2</th>\n",
       "      <td>Age1</td>\n",
       "      <td>1</td>\n",
       "      <td>0</td>\n",
       "      <td>0</td>\n",
       "    </tr>\n",
       "    <tr>\n",
       "      <th>3</th>\n",
       "      <td>LTE2</td>\n",
       "      <td>2</td>\n",
       "      <td>0</td>\n",
       "      <td>0</td>\n",
       "    </tr>\n",
       "    <tr>\n",
       "      <th>4</th>\n",
       "      <td>EP3</td>\n",
       "      <td>3</td>\n",
       "      <td>0</td>\n",
       "      <td>0</td>\n",
       "    </tr>\n",
       "  </tbody>\n",
       "</table>\n",
       "</div>"
      ],
      "text/plain": [
       "                Name  Type  PhaseType  SpeciesKineticsType\n",
       "SpeciesID                                                 \n",
       "0             Sodium     0          0                    0\n",
       "1          Potassium     0          0                    0\n",
       "2               Age1     1          0                    0\n",
       "3               LTE2     2          0                    0\n",
       "4                EP3     3          0                    0"
      ]
     },
     "execution_count": 17,
     "metadata": {},
     "output_type": "execute_result"
    }
   ],
   "source": [
    "# load multi-species example and show content (requires ifm_contrib)\n",
    "doc = ifm.loadDocument(\"../data/unittests/models/example_3D_mspecies.fem\")\n",
    "df_species = doc.c.settings.df.species()\n",
    "df_species"
   ]
  },
  {
   "cell_type": "code",
   "execution_count": 18,
   "metadata": {
    "ExecuteTime": {
     "end_time": "2020-08-19T07:52:53.104272Z",
     "start_time": "2020-08-19T07:52:53.097275Z"
    }
   },
   "outputs": [
    {
     "data": {
      "text/plain": [
       "[0.0, 0.0, 0.0, 0.0, 0.0]"
      ]
     },
     "execution_count": 18,
     "metadata": {},
     "output_type": "execute_result"
    }
   ],
   "source": [
    "# classic usage only allowed to access the first \n",
    "doc.setMultiSpeciesId(3)\n",
    "[doc.getResultsTransportMassValue(n) for n in range(5)]\n"
   ]
  },
  {
   "cell_type": "code",
   "execution_count": 19,
   "metadata": {
    "ExecuteTime": {
     "end_time": "2020-08-19T07:52:53.530229Z",
     "start_time": "2020-08-19T07:52:53.523241Z"
    }
   },
   "outputs": [
    {
     "data": {
      "text/plain": [
       "[0.30000001192092896,\n",
       " 0.30000001192092896,\n",
       " 0.30000001192092896,\n",
       " 0.30000001192092896,\n",
       " 0.30000001192092896]"
      ]
     },
     "execution_count": 19,
     "metadata": {},
     "output_type": "execute_result"
    }
   ],
   "source": [
    "# with vectorized new way of adressing the contents, stateless\n",
    "doc.getParamValues((ifm.Enum.P_PORO, \"Potassium\"))[:5]"
   ]
  },
  {
   "cell_type": "code",
   "execution_count": 20,
   "metadata": {
    "ExecuteTime": {
     "end_time": "2020-08-19T07:52:53.998629Z",
     "start_time": "2020-08-19T07:52:53.984156Z"
    }
   },
   "outputs": [
    {
     "ename": "RuntimeError",
     "evalue": "GetParamSize: GetParamSize: Invalid parameter id",
     "output_type": "error",
     "traceback": [
      "\u001b[1;31m---------------------------------------------------------------------------\u001b[0m",
      "\u001b[1;31mRuntimeError\u001b[0m                              Traceback (most recent call last)",
      "\u001b[1;32m<ipython-input-20-5e41d206f52a>\u001b[0m in \u001b[0;36m<module>\u001b[1;34m\u001b[0m\n\u001b[0;32m      1\u001b[0m \u001b[1;31m# with vectorized new way of adressing the contents, stateless\u001b[0m\u001b[1;33m\u001b[0m\u001b[1;33m\u001b[0m\u001b[1;33m\u001b[0m\u001b[0m\n\u001b[1;32m----> 2\u001b[1;33m \u001b[0mdoc\u001b[0m\u001b[1;33m.\u001b[0m\u001b[0mgetParamValues\u001b[0m\u001b[1;33m(\u001b[0m\u001b[1;33m(\u001b[0m\u001b[0mifm\u001b[0m\u001b[1;33m.\u001b[0m\u001b[0mEnum\u001b[0m\u001b[1;33m.\u001b[0m\u001b[0mP_CONC\u001b[0m\u001b[1;33m,\u001b[0m \u001b[1;34m\"Potassium\"\u001b[0m\u001b[1;33m)\u001b[0m\u001b[1;33m)\u001b[0m\u001b[1;33m[\u001b[0m\u001b[1;33m:\u001b[0m\u001b[1;36m5\u001b[0m\u001b[1;33m]\u001b[0m\u001b[1;33m\u001b[0m\u001b[1;33m\u001b[0m\u001b[0m\n\u001b[0m",
      "\u001b[1;31mRuntimeError\u001b[0m: GetParamSize: GetParamSize: Invalid parameter id"
     ]
    }
   ],
   "source": [
    "# with vectorized new way of adressing the contents, stateless\n",
    "doc.getParamValues((ifm.Enum.P_CONC, \"Potassium\"))[:5]"
   ]
  },
  {
   "cell_type": "code",
   "execution_count": 21,
   "metadata": {
    "ExecuteTime": {
     "end_time": "2020-08-19T07:52:54.474068Z",
     "start_time": "2020-08-19T07:52:54.431085Z"
    }
   },
   "outputs": [
    {
     "data": {
      "text/html": [
       "<div>\n",
       "<style scoped>\n",
       "    .dataframe tbody tr th:only-of-type {\n",
       "        vertical-align: middle;\n",
       "    }\n",
       "\n",
       "    .dataframe tbody tr th {\n",
       "        vertical-align: top;\n",
       "    }\n",
       "\n",
       "    .dataframe thead th {\n",
       "        text-align: right;\n",
       "    }\n",
       "</style>\n",
       "<table border=\"1\" class=\"dataframe\">\n",
       "  <thead>\n",
       "    <tr style=\"text-align: right;\">\n",
       "      <th></th>\n",
       "      <th>Sodium</th>\n",
       "      <th>Potassium</th>\n",
       "      <th>Age1</th>\n",
       "      <th>LTE2</th>\n",
       "      <th>EP3</th>\n",
       "    </tr>\n",
       "  </thead>\n",
       "  <tbody>\n",
       "    <tr>\n",
       "      <th>count</th>\n",
       "      <td>1960.0</td>\n",
       "      <td>1960.0</td>\n",
       "      <td>1960.0</td>\n",
       "      <td>1960.0</td>\n",
       "      <td>1960.0</td>\n",
       "    </tr>\n",
       "    <tr>\n",
       "      <th>mean</th>\n",
       "      <td>0.3</td>\n",
       "      <td>0.3</td>\n",
       "      <td>0.3</td>\n",
       "      <td>0.3</td>\n",
       "      <td>0.3</td>\n",
       "    </tr>\n",
       "    <tr>\n",
       "      <th>std</th>\n",
       "      <td>0.0</td>\n",
       "      <td>0.0</td>\n",
       "      <td>0.0</td>\n",
       "      <td>0.0</td>\n",
       "      <td>0.0</td>\n",
       "    </tr>\n",
       "    <tr>\n",
       "      <th>min</th>\n",
       "      <td>0.3</td>\n",
       "      <td>0.3</td>\n",
       "      <td>0.3</td>\n",
       "      <td>0.3</td>\n",
       "      <td>0.3</td>\n",
       "    </tr>\n",
       "    <tr>\n",
       "      <th>25%</th>\n",
       "      <td>0.3</td>\n",
       "      <td>0.3</td>\n",
       "      <td>0.3</td>\n",
       "      <td>0.3</td>\n",
       "      <td>0.3</td>\n",
       "    </tr>\n",
       "    <tr>\n",
       "      <th>50%</th>\n",
       "      <td>0.3</td>\n",
       "      <td>0.3</td>\n",
       "      <td>0.3</td>\n",
       "      <td>0.3</td>\n",
       "      <td>0.3</td>\n",
       "    </tr>\n",
       "    <tr>\n",
       "      <th>75%</th>\n",
       "      <td>0.3</td>\n",
       "      <td>0.3</td>\n",
       "      <td>0.3</td>\n",
       "      <td>0.3</td>\n",
       "      <td>0.3</td>\n",
       "    </tr>\n",
       "    <tr>\n",
       "      <th>max</th>\n",
       "      <td>0.3</td>\n",
       "      <td>0.3</td>\n",
       "      <td>0.3</td>\n",
       "      <td>0.3</td>\n",
       "      <td>0.3</td>\n",
       "    </tr>\n",
       "  </tbody>\n",
       "</table>\n",
       "</div>"
      ],
      "text/plain": [
       "       Sodium  Potassium    Age1    LTE2     EP3\n",
       "count  1960.0     1960.0  1960.0  1960.0  1960.0\n",
       "mean      0.3        0.3     0.3     0.3     0.3\n",
       "std       0.0        0.0     0.0     0.0     0.0\n",
       "min       0.3        0.3     0.3     0.3     0.3\n",
       "25%       0.3        0.3     0.3     0.3     0.3\n",
       "50%       0.3        0.3     0.3     0.3     0.3\n",
       "75%       0.3        0.3     0.3     0.3     0.3\n",
       "max       0.3        0.3     0.3     0.3     0.3"
      ]
     },
     "execution_count": 21,
     "metadata": {},
     "output_type": "execute_result"
    }
   ],
   "source": [
    "# to do something useful, let's check that the porosities of all species have same value:\n",
    "df = pd.DataFrame()\n",
    "for species in df_species.Name:\n",
    "    df[species] = doc.getParamValues((ifm.Enum.P_PORO, species))\n",
    "df.describe()"
   ]
  },
  {
   "cell_type": "code",
   "execution_count": 22,
   "metadata": {
    "ExecuteTime": {
     "end_time": "2020-08-19T07:52:54.909469Z",
     "start_time": "2020-08-19T07:52:54.893510Z"
    }
   },
   "outputs": [
    {
     "ename": "RuntimeError",
     "evalue": "GetParamSize: GetParamSize: Invalid parameter id",
     "output_type": "error",
     "traceback": [
      "\u001b[1;31m---------------------------------------------------------------------------\u001b[0m",
      "\u001b[1;31mRuntimeError\u001b[0m                              Traceback (most recent call last)",
      "\u001b[1;32m<ipython-input-22-371e6cbe81bb>\u001b[0m in \u001b[0;36m<module>\u001b[1;34m\u001b[0m\n\u001b[0;32m      1\u001b[0m \u001b[1;31m# alternative syntax - getting parameter object first improves speed of many iterations are to be performed\u001b[0m\u001b[1;33m\u001b[0m\u001b[1;33m\u001b[0m\u001b[1;33m\u001b[0m\u001b[0m\n\u001b[0;32m      2\u001b[0m \u001b[0mpar\u001b[0m \u001b[1;33m=\u001b[0m \u001b[0mdoc\u001b[0m\u001b[1;33m.\u001b[0m\u001b[0mgetParameter\u001b[0m\u001b[1;33m(\u001b[0m\u001b[0mifm\u001b[0m\u001b[1;33m.\u001b[0m\u001b[0mEnum\u001b[0m\u001b[1;33m.\u001b[0m\u001b[0mP_CONC\u001b[0m\u001b[1;33m,\u001b[0m \u001b[1;34m\"Potassium\"\u001b[0m\u001b[1;33m)\u001b[0m \u001b[1;31m# get the parameter as an object\u001b[0m\u001b[1;33m\u001b[0m\u001b[1;33m\u001b[0m\u001b[0m\n\u001b[1;32m----> 3\u001b[1;33m \u001b[0mdoc\u001b[0m\u001b[1;33m.\u001b[0m\u001b[0mgetParamValues\u001b[0m\u001b[1;33m(\u001b[0m\u001b[0mpar\u001b[0m\u001b[1;33m)\u001b[0m\u001b[1;33m[\u001b[0m\u001b[1;33m:\u001b[0m\u001b[1;36m5\u001b[0m\u001b[1;33m]\u001b[0m  \u001b[1;31m# use the object as argument\u001b[0m\u001b[1;33m\u001b[0m\u001b[1;33m\u001b[0m\u001b[0m\n\u001b[0m",
      "\u001b[1;31mRuntimeError\u001b[0m: GetParamSize: GetParamSize: Invalid parameter id"
     ]
    }
   ],
   "source": [
    "# alternative syntax - getting parameter object first improves speed of many iterations are to be performed\n",
    "par = doc.getParameter(ifm.Enum.P_CONC, \"Potassium\") # get the parameter as an object\n",
    "doc.getParamValues(par)[:5]  # use the object as argument"
   ]
  },
  {
   "cell_type": "code",
   "execution_count": 23,
   "metadata": {
    "ExecuteTime": {
     "end_time": "2020-08-19T07:52:56.428030Z",
     "start_time": "2020-08-19T07:52:56.420569Z"
    }
   },
   "outputs": [
    {
     "data": {
      "text/plain": [
       "[0.30000001192092896,\n",
       " 0.30000001192092896,\n",
       " 0.30000001192092896,\n",
       " 0.30000001192092896,\n",
       " 0.30000001192092896]"
      ]
     },
     "execution_count": 23,
     "metadata": {},
     "output_type": "execute_result"
    }
   ],
   "source": [
    "# alternative syntax - more concise but slower if many loops are required\n",
    "doc.pdoc.getParamValues((ifm.Enum.P_PORO, \"Sodium\"))[:5]"
   ]
  },
  {
   "cell_type": "markdown",
   "metadata": {},
   "source": [
    "#### User Distributions and Expressions\n",
    "\n",
    "Stateless vectorized access to user distributions."
   ]
  },
  {
   "cell_type": "code",
   "execution_count": 24,
   "metadata": {
    "ExecuteTime": {
     "end_time": "2020-08-19T07:53:07.021130Z",
     "start_time": "2020-08-19T07:53:06.991668Z"
    }
   },
   "outputs": [
    {
     "data": {
      "text/html": [
       "<div>\n",
       "<style scoped>\n",
       "    .dataframe tbody tr th:only-of-type {\n",
       "        vertical-align: middle;\n",
       "    }\n",
       "\n",
       "    .dataframe tbody tr th {\n",
       "        vertical-align: top;\n",
       "    }\n",
       "\n",
       "    .dataframe thead th {\n",
       "        text-align: right;\n",
       "    }\n",
       "</style>\n",
       "<table border=\"1\" class=\"dataframe\">\n",
       "  <thead>\n",
       "    <tr style=\"text-align: right;\">\n",
       "      <th></th>\n",
       "      <th>Name</th>\n",
       "      <th>user_type</th>\n",
       "      <th>item_type</th>\n",
       "      <th>ID</th>\n",
       "    </tr>\n",
       "  </thead>\n",
       "  <tbody>\n",
       "    <tr>\n",
       "      <th>0</th>\n",
       "      <td>MyUserDistribution</td>\n",
       "      <td>DISTRIBUTION</td>\n",
       "      <td>NODAL</td>\n",
       "      <td>0</td>\n",
       "    </tr>\n",
       "    <tr>\n",
       "      <th>1</th>\n",
       "      <td>2ndUserDistribution</td>\n",
       "      <td>DISTRIBUTION</td>\n",
       "      <td>NODAL</td>\n",
       "      <td>1</td>\n",
       "    </tr>\n",
       "    <tr>\n",
       "      <th>0</th>\n",
       "      <td>MyUserExpression</td>\n",
       "      <td>EXPRESSION</td>\n",
       "      <td>NODAL</td>\n",
       "      <td>0</td>\n",
       "    </tr>\n",
       "  </tbody>\n",
       "</table>\n",
       "</div>"
      ],
      "text/plain": [
       "                  Name     user_type item_type  ID\n",
       "0   MyUserDistribution  DISTRIBUTION     NODAL   0\n",
       "1  2ndUserDistribution  DISTRIBUTION     NODAL   1\n",
       "0     MyUserExpression    EXPRESSION     NODAL   0"
      ]
     },
     "execution_count": 24,
     "metadata": {},
     "output_type": "execute_result"
    }
   ],
   "source": [
    "doc.c.user.df.distributions()"
   ]
  },
  {
   "cell_type": "code",
   "execution_count": 25,
   "metadata": {
    "ExecuteTime": {
     "end_time": "2020-08-19T07:53:07.439592Z",
     "start_time": "2020-08-19T07:53:07.432102Z"
    }
   },
   "outputs": [
    {
     "data": {
      "text/plain": [
       "[2.0, 2.0, 2.0, 2.0, 2.0]"
      ]
     },
     "execution_count": 25,
     "metadata": {},
     "output_type": "execute_result"
    }
   ],
   "source": [
    "# unified access to user distribution\n",
    "doc.getParamValues((ifm.Enum.P_REFDIST_N, \"2ndUserDistribution\"))[:5]"
   ]
  },
  {
   "cell_type": "code",
   "execution_count": 26,
   "metadata": {
    "ExecuteTime": {
     "end_time": "2020-08-19T07:53:07.943451Z",
     "start_time": "2020-08-19T07:53:07.922485Z"
    }
   },
   "outputs": [
    {
     "data": {
      "text/plain": [
       "[3.0, 3.0, 3.0, 3.0, 3.0]"
      ]
     },
     "execution_count": 26,
     "metadata": {},
     "output_type": "execute_result"
    }
   ],
   "source": [
    "# unified access to user expressions\n",
    "doc.getParamValues((ifm.Enum.P_EXPDIST_N, \"MyUserExpression\"))[:5]"
   ]
  },
  {
   "cell_type": "markdown",
   "metadata": {},
   "source": [
    "the same behavior is adopted for the following functions:\n",
    "\n",
    "+  `getParamSize()`\n",
    "+  `getParamValue()`\n",
    "+  `getParamValues()`\n",
    "+  `setParamValue()`\n",
    "+  `setParamValues()`\n",
    "+  `enableParamRecording()`\n"
   ]
  },
  {
   "cell_type": "markdown",
   "metadata": {},
   "source": [
    "#### Access to Boundary Conditions\n",
    "The `doc.getParamValues()` functions now allows to access boundary conditions. Boundary conditions parameter constant are defined in `ifm.Enum`, starting with `ifm.Enum.P_BC*`.\n",
    "\n",
    "+ `ifm.Enum.P_BC_FLOW`, `ifm.Enum.P_BC_HEAT` and `ifm.Enum.P_BC_MASS` are collective terms for boundary conditions of all kinds,\n",
    "+ `ifm.Enum.P_BCFLOW_1ST` and similar stands for the specified kind (e.g. 1st kind - Dirichlet-, 2nd kind - Neumann, etc.) of boundary conditions in its basic form, \n",
    "+ `ifm.Enum.P_BCFLOW_2ND_GRAD` (Gradient-form) , `ifm.Enum.P_BCFLOW_2ND_INT` (integral form) stand for specific sub-types.\n",
    "\n",
    "+ `ifm.Enum.P_BCFLOWMOD_1ST` allows to read and write the modulation function related to its given type of boundary conditions.\n",
    "\n",
    "\n",
    "Full list, please see below:"
   ]
  },
  {
   "cell_type": "code",
   "execution_count": 27,
   "metadata": {
    "ExecuteTime": {
     "end_time": "2020-08-19T07:53:09.342134Z",
     "start_time": "2020-08-19T07:53:09.334639Z"
    }
   },
   "outputs": [
    {
     "data": {
      "text/plain": [
       "{'P_BCFLOWMOD_1ST': 570,\n",
       " 'P_BCFLOWMOD_2ND': 571,\n",
       " 'P_BCFLOWMOD_2ND_GRAD': 576,\n",
       " 'P_BCFLOWMOD_2ND_INT': 574,\n",
       " 'P_BCFLOWMOD_3RD': 572,\n",
       " 'P_BCFLOWMOD_3RD_INT': 575,\n",
       " 'P_BCFLOWMOD_4TH': 573,\n",
       " 'P_BCFLOW_1ST': 500,\n",
       " 'P_BCFLOW_2ND': 501,\n",
       " 'P_BCFLOW_2ND_GRA': 521,\n",
       " 'P_BCFLOW_2ND_INT': 511,\n",
       " 'P_BCFLOW_3RD': 502,\n",
       " 'P_BCFLOW_3RD_INT': 512,\n",
       " 'P_BCFLOW_4TH': 503,\n",
       " 'P_BCHEATMOD_1ST': 770,\n",
       " 'P_BCHEATMOD_2ND': 771,\n",
       " 'P_BCHEATMOD_2ND_INT': 774,\n",
       " 'P_BCHEATMOD_3RD': 772,\n",
       " 'P_BCHEATMOD_3RD_INT': 775,\n",
       " 'P_BCHEATMOD_4TH': 773,\n",
       " 'P_BCHEAT_1ST': 700,\n",
       " 'P_BCHEAT_2ND': 701,\n",
       " 'P_BCHEAT_2ND_INT': 711,\n",
       " 'P_BCHEAT_3RD': 702,\n",
       " 'P_BCHEAT_3RD_INT': 712,\n",
       " 'P_BCHEAT_4TH': 703,\n",
       " 'P_BCMASSMOD_1ST': 670,\n",
       " 'P_BCMASSMOD_2ND': 671,\n",
       " 'P_BCMASSMOD_2ND_INT': 674,\n",
       " 'P_BCMASSMOD_3RD': 672,\n",
       " 'P_BCMASSMOD_3RD_INT': 675,\n",
       " 'P_BCMASSMOD_4TH': 673,\n",
       " 'P_BCMASS_1ST': 600,\n",
       " 'P_BCMASS_2ND': 601,\n",
       " 'P_BCMASS_2ND_INT': 611,\n",
       " 'P_BCMASS_3RD': 602,\n",
       " 'P_BCMASS_3RD_INT': 612,\n",
       " 'P_BCMASS_4TH': 603,\n",
       " 'P_BC_FLOW': 500,\n",
       " 'P_BC_HEAT': 700,\n",
       " 'P_BC_MASS': 600}"
      ]
     },
     "execution_count": 27,
     "metadata": {},
     "output_type": "execute_result"
    }
   ],
   "source": [
    "# this requires documentation\n",
    "{c: eval(\"ifm.Enum.{}\".format(c)) for c in dir(ifm.Enum) if c.startswith(\"P_BC\")}"
   ]
  },
  {
   "cell_type": "code",
   "execution_count": 28,
   "metadata": {
    "ExecuteTime": {
     "end_time": "2020-08-19T07:53:09.836997Z",
     "start_time": "2020-08-19T07:53:09.800046Z"
    }
   },
   "outputs": [
    {
     "data": {
      "text/html": [
       "<div>\n",
       "<style scoped>\n",
       "    .dataframe tbody tr th:only-of-type {\n",
       "        vertical-align: middle;\n",
       "    }\n",
       "\n",
       "    .dataframe tbody tr th {\n",
       "        vertical-align: top;\n",
       "    }\n",
       "\n",
       "    .dataframe thead th {\n",
       "        text-align: right;\n",
       "    }\n",
       "</style>\n",
       "<table border=\"1\" class=\"dataframe\">\n",
       "  <thead>\n",
       "    <tr style=\"text-align: right;\">\n",
       "      <th></th>\n",
       "      <th>SLICE</th>\n",
       "      <th>TOP_NODE</th>\n",
       "      <th>X</th>\n",
       "      <th>Y</th>\n",
       "      <th>HEAD_BC</th>\n",
       "      <th>MOD_FUNCTION</th>\n",
       "    </tr>\n",
       "    <tr>\n",
       "      <th>NODE</th>\n",
       "      <th></th>\n",
       "      <th></th>\n",
       "      <th></th>\n",
       "      <th></th>\n",
       "      <th></th>\n",
       "      <th></th>\n",
       "    </tr>\n",
       "  </thead>\n",
       "  <tbody>\n",
       "    <tr>\n",
       "      <th>0</th>\n",
       "      <td>None</td>\n",
       "      <td>None</td>\n",
       "      <td>165.454856</td>\n",
       "      <td>1029.189591</td>\n",
       "      <td>0.0</td>\n",
       "      <td>NaN</td>\n",
       "    </tr>\n",
       "    <tr>\n",
       "      <th>1</th>\n",
       "      <td>None</td>\n",
       "      <td>None</td>\n",
       "      <td>136.731283</td>\n",
       "      <td>1003.845262</td>\n",
       "      <td>0.0</td>\n",
       "      <td>NaN</td>\n",
       "    </tr>\n",
       "    <tr>\n",
       "      <th>2</th>\n",
       "      <td>None</td>\n",
       "      <td>None</td>\n",
       "      <td>108.007710</td>\n",
       "      <td>978.500933</td>\n",
       "      <td>0.0</td>\n",
       "      <td>NaN</td>\n",
       "    </tr>\n",
       "    <tr>\n",
       "      <th>3</th>\n",
       "      <td>None</td>\n",
       "      <td>None</td>\n",
       "      <td>79.284137</td>\n",
       "      <td>953.156604</td>\n",
       "      <td>0.0</td>\n",
       "      <td>NaN</td>\n",
       "    </tr>\n",
       "    <tr>\n",
       "      <th>4</th>\n",
       "      <td>None</td>\n",
       "      <td>None</td>\n",
       "      <td>50.560564</td>\n",
       "      <td>927.812275</td>\n",
       "      <td>0.0</td>\n",
       "      <td>NaN</td>\n",
       "    </tr>\n",
       "    <tr>\n",
       "      <th>...</th>\n",
       "      <td>...</td>\n",
       "      <td>...</td>\n",
       "      <td>...</td>\n",
       "      <td>...</td>\n",
       "      <td>...</td>\n",
       "      <td>...</td>\n",
       "    </tr>\n",
       "    <tr>\n",
       "      <th>1221</th>\n",
       "      <td>None</td>\n",
       "      <td>None</td>\n",
       "      <td>922.190442</td>\n",
       "      <td>523.224622</td>\n",
       "      <td>10.0</td>\n",
       "      <td>NaN</td>\n",
       "    </tr>\n",
       "    <tr>\n",
       "      <th>1222</th>\n",
       "      <td>None</td>\n",
       "      <td>None</td>\n",
       "      <td>936.014621</td>\n",
       "      <td>559.996939</td>\n",
       "      <td>10.0</td>\n",
       "      <td>NaN</td>\n",
       "    </tr>\n",
       "    <tr>\n",
       "      <th>1223</th>\n",
       "      <td>None</td>\n",
       "      <td>None</td>\n",
       "      <td>949.838801</td>\n",
       "      <td>596.769256</td>\n",
       "      <td>10.0</td>\n",
       "      <td>NaN</td>\n",
       "    </tr>\n",
       "    <tr>\n",
       "      <th>1224</th>\n",
       "      <td>None</td>\n",
       "      <td>None</td>\n",
       "      <td>963.662980</td>\n",
       "      <td>633.541574</td>\n",
       "      <td>10.0</td>\n",
       "      <td>NaN</td>\n",
       "    </tr>\n",
       "    <tr>\n",
       "      <th>1225</th>\n",
       "      <td>None</td>\n",
       "      <td>None</td>\n",
       "      <td>977.487160</td>\n",
       "      <td>670.313891</td>\n",
       "      <td>10.0</td>\n",
       "      <td>NaN</td>\n",
       "    </tr>\n",
       "  </tbody>\n",
       "</table>\n",
       "<p>96 rows × 6 columns</p>\n",
       "</div>"
      ],
      "text/plain": [
       "     SLICE TOP_NODE           X            Y  HEAD_BC  MOD_FUNCTION\n",
       "NODE                                                               \n",
       "0     None     None  165.454856  1029.189591      0.0           NaN\n",
       "1     None     None  136.731283  1003.845262      0.0           NaN\n",
       "2     None     None  108.007710   978.500933      0.0           NaN\n",
       "3     None     None   79.284137   953.156604      0.0           NaN\n",
       "4     None     None   50.560564   927.812275      0.0           NaN\n",
       "...    ...      ...         ...          ...      ...           ...\n",
       "1221  None     None  922.190442   523.224622     10.0           NaN\n",
       "1222  None     None  936.014621   559.996939     10.0           NaN\n",
       "1223  None     None  949.838801   596.769256     10.0           NaN\n",
       "1224  None     None  963.662980   633.541574     10.0           NaN\n",
       "1225  None     None  977.487160   670.313891     10.0           NaN\n",
       "\n",
       "[96 rows x 6 columns]"
      ]
     },
     "execution_count": 28,
     "metadata": {},
     "output_type": "execute_result"
    }
   ],
   "source": [
    "# head BC and Modulation function\n",
    "doc.c.mesh.df.nodes(par={\"HEAD_BC\" : ifm.Enum.P_BCFLOW_1ST,\n",
    "                         \"MOD_FUNCTION\" : ifm.Enum.P_BCFLOWMOD_1ST}).dropna(subset=[\"HEAD_BC\"])"
   ]
  },
  {
   "cell_type": "markdown",
   "metadata": {},
   "source": [
    "## Simulator Settings\n",
    "\n",
    "### Access Initial Simulation Time\n",
    "\n",
    "It is now possible to get and set the initial simulation tim:"
   ]
  },
  {
   "cell_type": "code",
   "execution_count": 29,
   "metadata": {
    "ExecuteTime": {
     "end_time": "2020-08-19T07:53:10.897145Z",
     "start_time": "2020-08-19T07:53:10.867189Z"
    }
   },
   "outputs": [],
   "source": [
    "doc = ifm.loadDocument(\"../data/unittests/models/example_2D.fem\")"
   ]
  },
  {
   "cell_type": "code",
   "execution_count": 30,
   "metadata": {
    "ExecuteTime": {
     "end_time": "2020-08-19T07:53:11.494902Z",
     "start_time": "2020-08-19T07:53:11.490906Z"
    }
   },
   "outputs": [],
   "source": [
    "# set new initial simulation time\n",
    "doc.setInitialSimulationTime(5.)\n",
    "doc.setFinalSimulationTime(20.)"
   ]
  },
  {
   "cell_type": "code",
   "execution_count": 31,
   "metadata": {
    "ExecuteTime": {
     "end_time": "2020-08-19T07:53:12.127077Z",
     "start_time": "2020-08-19T07:53:12.122085Z"
    }
   },
   "outputs": [
    {
     "name": "stdout",
     "output_type": "stream",
     "text": [
      "Simulation period: 5.0d - 20.0d\n"
     ]
    }
   ],
   "source": [
    "# retrieve initial simulation time\n",
    "print(\"Simulation period: {}d - {}d\".format(doc.getInitialSimulationTime(), \n",
    "                                              doc.pdoc.getFinalSimulationTime()))"
   ]
  },
  {
   "cell_type": "markdown",
   "metadata": {},
   "source": [
    "### Set Time Stages for DAC saving\n",
    "\n",
    "It is now possible to set the time steps for dac-file output."
   ]
  },
  {
   "cell_type": "code",
   "execution_count": 32,
   "metadata": {
    "ExecuteTime": {
     "end_time": "2020-08-19T07:53:13.810929Z",
     "start_time": "2020-08-19T07:53:13.806933Z"
    }
   },
   "outputs": [],
   "source": [
    "# set the model to save daily time steps\n",
    "flag = 3\n",
    "doc.setCustomTimes(list(range(5, 21, 2)), flag)"
   ]
  },
  {
   "cell_type": "markdown",
   "metadata": {},
   "source": [
    "the flag is for the actual usage of this list:\n",
    "\n",
    "+ 0: inactive (stored in FEM but not used)\n",
    "+ 1: used for saving (DAC)\n",
    "+ 2: used for simulation\n",
    "+ 3: used for both saving and simulation\n",
    "\n",
    "Note: 1 and 3 has equal behavior (saving implies simulation), the flag corresponds to the setting of the corresponding checkboxes in FEFLOW."
   ]
  },
  {
   "cell_type": "code",
   "execution_count": 33,
   "metadata": {
    "ExecuteTime": {
     "end_time": "2020-08-19T07:53:23.433530Z",
     "start_time": "2020-08-19T07:53:23.428507Z"
    }
   },
   "outputs": [
    {
     "data": {
      "text/plain": [
       "([5.0, 7.0, 9.0, 11.0, 13.0, 15.0, 17.0, 19.0], 3)"
      ]
     },
     "execution_count": 33,
     "metadata": {},
     "output_type": "execute_result"
    }
   ],
   "source": [
    "# this reads the \n",
    "doc.queryCustomTimes()"
   ]
  },
  {
   "cell_type": "markdown",
   "metadata": {},
   "source": [
    "### Results File Control\n",
    "\n",
    "FEFLOW 7.4 provides provides an improved simulator API.\n",
    "\n",
    "Changing the output options (dac-path, file type, time of time steps) is now in a seperate call\n",
    "\n",
    "`doc.setOutput('yyy.dac', ifm.Enum.F_BINARY, [5., 10.])`\n",
    "\n",
    "before calling one of the simulator calls:\n",
    "\n",
    "+ `doc.startSimulator()` runs the simulation all the way to the end.\n",
    "+ `doc.runTo(t_end)` run the simulation until the simulation time reaches *t_end* \n",
    "+ `doc.singleStep()` run a single time step\n",
    "\n",
    "the file type is one of \n",
    "+ `ifm.Enum.F_ASCII`\n",
    "+ `ifm.Enum.F_BINARY`\n",
    "+ `ifm.Enum.F_CRYPTED`\n",
    "+ `ifm.Enum.F_DEFAULT`\n",
    "+ `ifm.Enum.F_INVALID`\n",
    "+ `ifm.Enum.F_PACKED`\n",
    "+ `ifm.Enum.F_PROTECTED`\n",
    "+ `ifm.Enum.F_XML`\n",
    "\n",
    "The example below first runs the model until day 10 ..."
   ]
  },
  {
   "cell_type": "code",
   "execution_count": 34,
   "metadata": {
    "ExecuteTime": {
     "end_time": "2020-08-19T07:53:26.415692Z",
     "start_time": "2020-08-19T07:53:25.032959Z"
    }
   },
   "outputs": [
    {
     "data": {
      "text/plain": [
       "True"
      ]
     },
     "execution_count": 34,
     "metadata": {},
     "output_type": "execute_result"
    }
   ],
   "source": [
    "# define the output file\n",
    "doc.setOutput(\"test.dac\")\n",
    "\n",
    "# run to simulation time 20 days\n",
    "doc.runTo(10.)"
   ]
  },
  {
   "cell_type": "markdown",
   "metadata": {},
   "source": [
    "... and then uses single steps until the end of the simuation is reached."
   ]
  },
  {
   "cell_type": "code",
   "execution_count": 35,
   "metadata": {
    "ExecuteTime": {
     "end_time": "2020-08-19T07:53:27.415927Z",
     "start_time": "2020-08-19T07:53:26.935069Z"
    }
   },
   "outputs": [
    {
     "name": "stdout",
     "output_type": "stream",
     "text": [
      "10.42871125029629\n",
      "10.65072053795304\n",
      "10.823744070789\n",
      "10.996767603624958\n",
      "11.0\n",
      "11.169791136460917\n",
      "11.44721145489437\n",
      "11.780677377414433\n",
      "12.232925493351479\n",
      "12.934952444509484\n",
      "13.0\n",
      "14.469369651423774\n",
      "15.0\n",
      "17.0\n",
      "19.0\n",
      "20.0\n"
     ]
    }
   ],
   "source": [
    "# run in single step mode and use \n",
    "while doc.singleStep():\n",
    "    print(doc.getAbsoluteSimulationTime())"
   ]
  },
  {
   "cell_type": "code",
   "execution_count": 36,
   "metadata": {
    "ExecuteTime": {
     "end_time": "2020-08-19T07:53:27.946738Z",
     "start_time": "2020-08-19T07:53:27.874330Z"
    }
   },
   "outputs": [
    {
     "data": {
      "text/html": [
       "<div>\n",
       "<style scoped>\n",
       "    .dataframe tbody tr th:only-of-type {\n",
       "        vertical-align: middle;\n",
       "    }\n",
       "\n",
       "    .dataframe tbody tr th {\n",
       "        vertical-align: top;\n",
       "    }\n",
       "\n",
       "    .dataframe thead th {\n",
       "        text-align: right;\n",
       "    }\n",
       "</style>\n",
       "<table border=\"1\" class=\"dataframe\">\n",
       "  <thead>\n",
       "    <tr style=\"text-align: right;\">\n",
       "      <th></th>\n",
       "      <th>step_index</th>\n",
       "      <th>simulation_time</th>\n",
       "      <th>simulation_date</th>\n",
       "      <th>timestep_length</th>\n",
       "    </tr>\n",
       "    <tr>\n",
       "      <th>file_index</th>\n",
       "      <th></th>\n",
       "      <th></th>\n",
       "      <th></th>\n",
       "      <th></th>\n",
       "    </tr>\n",
       "  </thead>\n",
       "  <tbody>\n",
       "    <tr>\n",
       "      <th>0</th>\n",
       "      <td>0</td>\n",
       "      <td>5.0</td>\n",
       "      <td>NaN</td>\n",
       "      <td>0.0</td>\n",
       "    </tr>\n",
       "    <tr>\n",
       "      <th>1</th>\n",
       "      <td>21</td>\n",
       "      <td>7.0</td>\n",
       "      <td>NaN</td>\n",
       "      <td>2.0</td>\n",
       "    </tr>\n",
       "    <tr>\n",
       "      <th>2</th>\n",
       "      <td>27</td>\n",
       "      <td>9.0</td>\n",
       "      <td>NaN</td>\n",
       "      <td>2.0</td>\n",
       "    </tr>\n",
       "    <tr>\n",
       "      <th>3</th>\n",
       "      <td>34</td>\n",
       "      <td>11.0</td>\n",
       "      <td>NaN</td>\n",
       "      <td>2.0</td>\n",
       "    </tr>\n",
       "    <tr>\n",
       "      <th>4</th>\n",
       "      <td>40</td>\n",
       "      <td>13.0</td>\n",
       "      <td>NaN</td>\n",
       "      <td>2.0</td>\n",
       "    </tr>\n",
       "    <tr>\n",
       "      <th>5</th>\n",
       "      <td>42</td>\n",
       "      <td>15.0</td>\n",
       "      <td>NaN</td>\n",
       "      <td>2.0</td>\n",
       "    </tr>\n",
       "    <tr>\n",
       "      <th>6</th>\n",
       "      <td>43</td>\n",
       "      <td>17.0</td>\n",
       "      <td>NaN</td>\n",
       "      <td>2.0</td>\n",
       "    </tr>\n",
       "    <tr>\n",
       "      <th>7</th>\n",
       "      <td>44</td>\n",
       "      <td>19.0</td>\n",
       "      <td>NaN</td>\n",
       "      <td>2.0</td>\n",
       "    </tr>\n",
       "    <tr>\n",
       "      <th>8</th>\n",
       "      <td>45</td>\n",
       "      <td>20.0</td>\n",
       "      <td>NaN</td>\n",
       "      <td>1.0</td>\n",
       "    </tr>\n",
       "  </tbody>\n",
       "</table>\n",
       "</div>"
      ],
      "text/plain": [
       "            step_index  simulation_time  simulation_date  timestep_length\n",
       "file_index                                                               \n",
       "0                    0              5.0              NaN              0.0\n",
       "1                   21              7.0              NaN              2.0\n",
       "2                   27              9.0              NaN              2.0\n",
       "3                   34             11.0              NaN              2.0\n",
       "4                   40             13.0              NaN              2.0\n",
       "5                   42             15.0              NaN              2.0\n",
       "6                   43             17.0              NaN              2.0\n",
       "7                   44             19.0              NaN              2.0\n",
       "8                   45             20.0              NaN              1.0"
      ]
     },
     "execution_count": 36,
     "metadata": {},
     "output_type": "execute_result"
    }
   ],
   "source": [
    "# check the file steps in resulting dac:\n",
    "dac = ifm.loadDocument(\"test.dac\")\n",
    "df_ts = dac.c.sim.df.time_steps()\n",
    "dac.closeDocument()\n",
    "df_ts"
   ]
  },
  {
   "cell_type": "markdown",
   "metadata": {},
   "source": [
    "## Coordinate Systems Strings\n",
    "\n",
    "`{set|get}WgeoCoordinateSystem(register).` allows to store a coordinate system string in the fem-file.\n",
    "\n",
    "**Note**: The string has currently no effect on the model and the FEFLOW GUI, but can be used in scripts for further processing.\n",
    "\n",
    "\n",
    "**Note**: FEFLOW has multiple registers which can be set independently:\n",
    "\n",
    "+ `CS_AUTHSTR`, e.g. \"epsg:32632\"\n",
    "+ `CS_CRSWKT`\n",
    "+ `CS_JSON`\n",
    "+ `CS_PRJFILE`\n",
    "+ `CS_PROJ`\n",
    "+ `CS_WGEO`\n",
    "\n",
    "See https://spatialreference.org/ for more examples.\n",
    "\n",
    "**Note**: future applications will require that only one register is allowed at a time. This condition must be checked by the client script.\n"
   ]
  },
  {
   "cell_type": "code",
   "execution_count": 37,
   "metadata": {
    "ExecuteTime": {
     "end_time": "2020-08-19T07:53:29.318491Z",
     "start_time": "2020-08-19T07:53:29.314994Z"
    }
   },
   "outputs": [],
   "source": [
    "# set to WGS84 / UTM zone 32N\n",
    "doc.setGeoCoordinateSystem(ifm.Enum.CS_AUTHSTR, \"epsg:32632\")"
   ]
  },
  {
   "cell_type": "code",
   "execution_count": 38,
   "metadata": {
    "ExecuteTime": {
     "end_time": "2020-08-19T07:53:29.912233Z",
     "start_time": "2020-08-19T07:53:29.906242Z"
    }
   },
   "outputs": [
    {
     "data": {
      "text/plain": [
       "'epsg:32632'"
      ]
     },
     "execution_count": 38,
     "metadata": {},
     "output_type": "execute_result"
    }
   ],
   "source": [
    "# get the coordinate string\n",
    "doc.getGeoCoordinateSystem(ifm.Enum.CS_AUTHSTR)"
   ]
  },
  {
   "cell_type": "markdown",
   "metadata": {},
   "source": [
    "## Pathlines and Streamlines\n",
    "\n",
    "IFM API 7.4 includes a complete API to compute pathlines and streamlines (!).\n",
    "\n",
    "\n",
    "The example below illustrates its usage:"
   ]
  },
  {
   "cell_type": "code",
   "execution_count": 39,
   "metadata": {
    "ExecuteTime": {
     "end_time": "2020-08-19T07:53:30.915451Z",
     "start_time": "2020-08-19T07:53:30.899004Z"
    }
   },
   "outputs": [],
   "source": [
    "doc = ifm.loadDocument(\"../data/unittests/models/example_2D.dac\")"
   ]
  },
  {
   "cell_type": "code",
   "execution_count": 40,
   "metadata": {
    "ExecuteTime": {
     "end_time": "2020-08-19T07:53:31.381857Z",
     "start_time": "2020-08-19T07:53:31.377363Z"
    }
   },
   "outputs": [],
   "source": [
    "# First, create particle tracer object\n",
    "pt=doc.createParticleTracer()"
   ]
  },
  {
   "cell_type": "code",
   "execution_count": 41,
   "metadata": {
    "ExecuteTime": {
     "end_time": "2020-08-19T07:53:32.476192Z",
     "start_time": "2020-08-19T07:53:32.470701Z"
    }
   },
   "outputs": [],
   "source": [
    "# Tracking Direction - forward vs. backward\n",
    "# pt.setTrackingDirection(ifm.Enum.PT_BACKWARD)  # backward lines\n",
    "pt.setTrackingDirection(ifm.Enum.PT_FORWARD)  # forward lines"
   ]
  },
  {
   "cell_type": "code",
   "execution_count": 42,
   "metadata": {
    "ExecuteTime": {
     "end_time": "2020-08-19T07:53:32.971070Z",
     "start_time": "2020-08-19T07:53:32.967069Z"
    }
   },
   "outputs": [],
   "source": [
    "# Tracking Mode - streamline vs. pathline\n",
    "# pt.setTrackingMode(ifm.Enum.PT_UNSTEADY) # pathlines\n",
    "pt.setTrackingMode(ifm.Enum.PT_STEADY) # streamlines"
   ]
  },
  {
   "cell_type": "code",
   "execution_count": 43,
   "metadata": {
    "ExecuteTime": {
     "end_time": "2020-08-19T07:53:33.521874Z",
     "start_time": "2020-08-19T07:53:33.517863Z"
    }
   },
   "outputs": [],
   "source": [
    "# Tracking Type - classic tracking vs. random walk\n",
    "# pt.setTrackingType(ifm.Enum.PT_RW)  # random-walk streamlines/pathlines\n",
    "pt.setTrackingType(ifm.Enum.PT_ADVECTIVE)  # classic streamlines/pathlines"
   ]
  },
  {
   "cell_type": "code",
   "execution_count": 44,
   "metadata": {
    "ExecuteTime": {
     "end_time": "2020-08-19T07:53:34.041700Z",
     "start_time": "2020-08-19T07:53:34.037201Z"
    }
   },
   "outputs": [],
   "source": [
    "# Travel time period (Initial to Final) to for tracking operation\n",
    "pt.setInitialTime(0)  \n",
    "pt.setFinalTime(365.24 * 100)"
   ]
  },
  {
   "cell_type": "code",
   "execution_count": null,
   "metadata": {
    "ExecuteTime": {
     "end_time": "2020-08-19T07:54:18.700885Z",
     "start_time": "2020-08-19T07:54:18.692891Z"
    }
   },
   "outputs": [],
   "source": [
    "Renaming\n",
    "\n",
    "# type\n",
    "('PT_TYPE_ADVECTIVE', 0), \n",
    "('PT_TYPE_RW', 1),\n",
    "\n",
    "# direction\n",
    "('PT_DIR_FORWARD', 0),\n",
    "('PT_DIR_BACKWARD', 1),\n",
    "\n",
    "# mode\n",
    "('PT_MODE_STEADY', 0),\n",
    "('PT_MODE_UNSTEADY', 1)]\n",
    "\n",
    "# dispersion type (muss nicht geändert werden)\n",
    "('PT_DISP_FICKIAN', 0)\n",
    "('PT_DISP_T_DEPENDS', 1),\n",
    "('PT_DISP_D_DEPENDS', 2),\n",
    "\n",
    "# RW Method\n",
    "('PT_MET_BACKWARDITO', 1),\n",
    "('PT_MET_STRATONOVICH', 2),\n",
    "('PT_MET_RK3ITO', 3),\n",
    "('PT_MET_FORWARDITO', 4),\n"
   ]
  },
  {
   "cell_type": "markdown",
   "metadata": {},
   "source": [
    "A single pathline is now calculated using `pt.generatePathLine(X, Y)`, where `X` and `Y` are the coordinates of the seed point. The function returns a list of tuples (`x`, `y`, `tau`), where `x`and `y` are the coordinates and `tau` is the travel time of each line vertex."
   ]
  },
  {
   "cell_type": "code",
   "execution_count": 46,
   "metadata": {
    "ExecuteTime": {
     "end_time": "2020-08-19T07:54:38.046141Z",
     "start_time": "2020-08-19T07:54:38.035687Z"
    }
   },
   "outputs": [
    {
     "data": {
      "text/plain": [
       "[(500.0, 500.0, 0.0),\n",
       " (493.48087762336604, 658.8290937522285, 5040355.410213804),\n",
       " (493.4808621193339, 658.8290940125363, 13687405.808231473),\n",
       " (493.4808621341816, 658.8290940122868, 22334616.895355653),\n",
       " (493.4808621342072, 658.8290940122868, 30981827.822169736),\n",
       " (493.4808621342102, 658.8290940122852, 39629038.7487041)]"
      ]
     },
     "execution_count": 46,
     "metadata": {},
     "output_type": "execute_result"
    }
   ],
   "source": [
    "pl=pt.generatePathLine(500., 500.)\n",
    "pl[::100] # show every 100th vertex"
   ]
  },
  {
   "cell_type": "markdown",
   "metadata": {},
   "source": [
    "The ParticleTracer object allows to {get|set} all computation settings for the pathline computation:\n",
    "\n",
    "   `getAAxis_pitchParameter`,`getAAxis_pitchValue`,`getAAxis_yawParameter`,\n",
    "   `getAAxis_yawValue`,`getAquiferThickness`,`getCompressionEnabled`,\n",
    "   `getDiffCoeffParameter`,`getDiffCoeffValue`,`getFinalTime`,`getInitialTime`,\n",
    "   `getLongDispParameter`,`getLongDispValue`,`getLongDisp_mParameter`,\n",
    "   `getLongDisp_mValue`,`getPorosityParameter`,`getPorosityValue`,\n",
    "   `getRandomWalkMethod`,`getRkAccuracy`,`getRkMaxElementSwitches`,\n",
    "   `getRkMaxStepsPerElement`,`getRkMinStepSizeFactor`,`getRkMinStepTime`,\n",
    "   `getScaleDepDispDref`,`getScaleDepDispTref`,`getSorptionParameter`,\n",
    "   `getTransvDispParameter`,`getTransvDispValue`,`getTransvDisp_mParameter`,\n",
    "   `getTransvDisp_mValue`\n",
    "   \n",
    "See [dhi.github.io/ifm](dhi.github.io/ifm) for the documentation. \n",
    "   \n",
    "In most cases, default settings are sufficient, which can be (re-) set with the following command:"
   ]
  },
  {
   "cell_type": "code",
   "execution_count": 47,
   "metadata": {
    "ExecuteTime": {
     "end_time": "2020-08-19T07:54:39.655093Z",
     "start_time": "2020-08-19T07:54:39.651095Z"
    }
   },
   "outputs": [],
   "source": [
    "# use default the setting (not necessary)\n",
    "pt.setDefaults()"
   ]
  },
  {
   "cell_type": "markdown",
   "metadata": {},
   "source": [
    "<div class=\"alert alert-danger\" role=\"alert\">\n",
    "    \n",
    "Final time seems to be ignored!\n",
    "    \n",
    "</div>"
   ]
  },
  {
   "cell_type": "markdown",
   "metadata": {},
   "source": [
    "A pathline swarm is created by running this in a loop for multiple points. The following examples does this for each point of an inflowing border \n",
    "\n",
    "from an inflowing border, a single pathline is produced per node:"
   ]
  },
  {
   "cell_type": "code",
   "execution_count": 49,
   "metadata": {
    "ExecuteTime": {
     "end_time": "2020-08-19T07:54:44.076984Z",
     "start_time": "2020-08-19T07:54:44.036001Z"
    }
   },
   "outputs": [],
   "source": [
    "# get node numbers and coordinates\n",
    "df_selections = doc.c.sel.df.selections()\n",
    "df_nodes = doc.c.mesh.df.nodes()"
   ]
  },
  {
   "cell_type": "code",
   "execution_count": 50,
   "metadata": {
    "ExecuteTime": {
     "end_time": "2020-08-19T07:54:53.932803Z",
     "start_time": "2020-08-19T07:54:53.465399Z"
    }
   },
   "outputs": [
    {
     "data": {
      "text/plain": [
       "Text(0.5, 1.0, 'Forward Streamlines')"
      ]
     },
     "execution_count": 50,
     "metadata": {},
     "output_type": "execute_result"
    },
    {
     "data": {
      "image/png": "[encoded data removed]",
      "text/plain": [
       "<Figure size 720x576 with 1 Axes>"
      ]
     },
     "metadata": {
      "needs_background": "light"
     },
     "output_type": "display_data"
    }
   ],
   "source": [
    "# create a plot\n",
    "fig, ax1 = plt.subplots(1, figsize=(10,8))\n",
    "ax1.axis(\"equal\")\n",
    "doc.c.plot.faces()\n",
    "doc.c.plot.isolines(par=ifm.Enum.P_HEAD)\n",
    "ax1.grid()\n",
    "ax1.set_ylabel(\"Y\")\n",
    "ax1.set_xlabel(\"X\")\n",
    "\n",
    "# add pathlines starting from the selection \"east\"\n",
    "for n in doc.c.sel.list(\"east\"):\n",
    "    pl=pt.generatePathLine(df_nodes.X[n], df_nodes.Y[n])\n",
    "    df_pl = pd.DataFrame(pl, columns=[\"X\", \"Y\", \"Tau\"])\n",
    "    plt.plot(df_pl.X, df_pl.Y, color=\"red\")\n",
    "\n",
    "plt.title(\"Forward Streamlines\")\n",
    "# for a FEFLOW style visualization, see https://matplotlib.org/3.1.1/gallery/lines_bars_and_markers/multicolored_line.html "
   ]
  },
  {
   "cell_type": "code",
   "execution_count": 51,
   "metadata": {
    "ExecuteTime": {
     "end_time": "2020-08-19T07:54:55.286577Z",
     "start_time": "2020-08-19T07:54:54.799703Z"
    }
   },
   "outputs": [
    {
     "data": {
      "text/plain": [
       "Text(0.5, 1.0, 'Forward Random-Walk')"
      ]
     },
     "execution_count": 51,
     "metadata": {},
     "output_type": "execute_result"
    },
    {
     "data": {
      "image/png": "[encoded data removed]",
      "text/plain": [
       "<Figure size 720x576 with 1 Axes>"
      ]
     },
     "metadata": {
      "needs_background": "light"
     },
     "output_type": "display_data"
    }
   ],
   "source": [
    "# repeat for random walk\n",
    "\n",
    "pt.setTrackingType(ifm.Enum.PT_RW)  # random-walk streamlines/pathlines\n",
    "\n",
    "# create a plot\n",
    "fig, ax1 = plt.subplots(1, figsize=(10,8))\n",
    "ax1.axis(\"equal\")\n",
    "doc.c.plot.faces()\n",
    "doc.c.plot.isolines(par=ifm.Enum.P_HEAD)\n",
    "ax1.grid()\n",
    "ax1.set_ylabel(\"Y\")\n",
    "ax1.set_xlabel(\"X\")\n",
    "\n",
    "# add pathlines starting from the selection \"east\"\n",
    "for n in doc.c.sel.list(\"east\"):\n",
    "    pl=pt.generatePathLine(df_nodes.X[n], df_nodes.Y[n])\n",
    "    df_pl = pd.DataFrame(pl, columns=[\"X\", \"Y\", \"Tau\"])\n",
    "    plt.scatter(df_pl.X, df_pl.Y, marker=\".\", color=\"red\")\n",
    "    \n",
    "plt.title(\"Forward Random-Walk\")\n"
   ]
  }
 ],
 "metadata": {
  "hide_input": false,
  "kernelspec": {
   "display_name": "py36_dhi",
   "language": "python",
   "name": "py36_dhi"
  },
  "language_info": {
   "codemirror_mode": {
    "name": "ipython",
    "version": 3
   },
   "file_extension": ".py",
   "mimetype": "text/x-python",
   "name": "python",
   "nbconvert_exporter": "python",
   "pygments_lexer": "ipython3",
   "version": "3.6.10"
  },
  "toc": {
   "nav_menu": {},
   "number_sections": true,
   "sideBar": true,
   "skip_h1_title": true,
   "toc_cell": false,
   "toc_position": {},
   "toc_section_display": "block",
   "toc_window_display": true
  },
  "varInspector": {
   "cols": {
    "lenName": 16,
    "lenType": 16,
    "lenVar": 40
   },
   "kernels_config": {
    "python": {
     "delete_cmd_postfix": "",
     "delete_cmd_prefix": "del ",
     "library": "var_list.py",
     "varRefreshCmd": "print(var_dic_list())"
    },
    "r": {
     "delete_cmd_postfix": ") ",
     "delete_cmd_prefix": "rm(",
     "library": "var_list.r",
     "varRefreshCmd": "cat(var_dic_list()) "
    }
   },
   "types_to_exclude": [
    "module",
    "function",
    "builtin_function_or_method",
    "instance",
    "_Feature"
   ],
   "window_display": false
  }
 },
 "nbformat": 4,
 "nbformat_minor": 2
}

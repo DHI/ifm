{
 "cells": [
  {
   "cell_type": "markdown",
   "metadata": {},
   "source": [
    "# Tutorial - Getting Started with IFM\n",
    "\n",
    "This tutorial introduces you to the high-level concepts for using FEFLOW using its Python API (IFM).\n",
    "\n",
    "It is assumed that you have basic knowledge about using the Python language.\n",
    "\n",
    "[<< Back to index](0-index.ipynb)\n",
    "\n",
    "[>> Next : Data Wrangling with Pandas and Geopandas](2-data-wrangling-in-python.ipynb)"
   ]
  },
  {
   "cell_type": "markdown",
   "metadata": {},
   "source": [
    "## Installation\n",
    "\n",
    "The Python API is installed together with FEFLOW, provided that the respective option was set during the installation.\n",
    "The FEFLOW installer \n",
    "+ installs the IFM API module below the FEFLOW program folder in a `/python/ifm` subfolder and \n",
    "+ adds this folder to the search path.\n",
    "\n",
    "**Multiple FEFLOW Versions**\n",
    "\n",
    "Note that if there are multiple versions of FEFLOW installed, it depends on the order of their entry in the search path list which one will be loaded.\n",
    "\n",
    "An example is shown below, with three FEFLOW installations (7.2, 7.4 and 7.5)."
   ]
  },
  {
   "cell_type": "code",
   "execution_count": 1,
   "metadata": {},
   "outputs": [
    {
     "data": {
      "text/plain": [
       "['C:\\\\Program Files\\\\DHI\\\\2022\\\\FEFLOW 7.5\\\\python',\n",
       " 'C:\\\\Program Files\\\\DHI\\\\2021\\\\FEFLOW 7.4\\\\python',\n",
       " 'C:\\\\Program Files\\\\DHI\\\\2019\\\\FEFLOW 7.2\\\\python',\n",
       " 'c:\\\\Anaconda3\\\\envs\\\\py36_dhi_imageproc\\\\python36.zip',\n",
       " 'c:\\\\Anaconda3\\\\envs\\\\py36_dhi_imageproc\\\\DLLs',\n",
       " 'c:\\\\Anaconda3\\\\envs\\\\py36_dhi_imageproc\\\\lib',\n",
       " 'c:\\\\Anaconda3\\\\envs\\\\py36_dhi_imageproc']"
      ]
     },
     "execution_count": 1,
     "metadata": {},
     "output_type": "execute_result"
    }
   ],
   "source": [
    "import sys\n",
    "sys.path[:7]"
   ]
  },
  {
   "cell_type": "markdown",
   "metadata": {},
   "source": [
    "The API of 7.5 will be imported, as it is the first occurence."
   ]
  },
  {
   "cell_type": "code",
   "execution_count": 2,
   "metadata": {},
   "outputs": [
    {
     "data": {
      "text/plain": [
       "7460"
      ]
     },
     "execution_count": 2,
     "metadata": {},
     "output_type": "execute_result"
    }
   ],
   "source": [
    "import ifm\n",
    "ifm.getKernelVersion()"
   ]
  },
  {
   "cell_type": "markdown",
   "metadata": {},
   "source": [
    "If you want to import a a different version, you need to remove the entry from the search path (e.g. `sys.path.pop(0)` will remove the topmost entry) befor calling `import ifm`."
   ]
  },
  {
   "cell_type": "markdown",
   "metadata": {},
   "source": [
    "## Pre- and Postprocessing\n",
    "\n",
    "Automating Pre- and Postprocessing is usually the most frequent usage of the IFM API. It includes loading a model, chaning model settings, running the model, and evaluating model results.\n",
    "\n",
    "Note that there is a second use case, where code is injected in the simulation at runtime using callbacks, which is discussed further below.\n",
    "\n",
    "### Loading a model\n",
    "\n",
    "To load a model, the ifm module provides the `ifm.loadDocument` method. The method returns an object representing the FEFLOW model. "
   ]
  },
  {
   "cell_type": "code",
   "execution_count": 3,
   "metadata": {},
   "outputs": [],
   "source": [
    "doc = ifm.loadDocument(\"./example_data/BoxB.fem\")"
   ]
  },
  {
   "cell_type": "markdown",
   "metadata": {},
   "source": [
    "The doc object is the central object of the API, as it provides numerous functions that alles to read or apply new model properties. More examples will be shown further below, in this case we will simply start the simulator and write the results to a dac file:\n",
    "\n",
    "### Running a model\n",
    "\n",
    "The following command starts the simulation"
   ]
  },
  {
   "cell_type": "code",
   "execution_count": 4,
   "metadata": {},
   "outputs": [],
   "source": [
    "doc.startSimulator(\"./example_data/BoxB.dac\")"
   ]
  },
  {
   "cell_type": "markdown",
   "metadata": {},
   "source": [
    "This command is equivalent to starting the simulation in the GUI. Note that the API allows more refined options, namely `doc.runTo()`, which starts the simulation but pauses it at a given simulation time, and `doc.singleStep()`, which advances the simulation by one time step and then Pauses the simulation again.\n",
    "\n",
    "### Stopping the Simulation and Closing the model\n",
    "\n",
    "To end the script in a tidy manner, the simulator is stopped and the model is closed.\n",
    "This will free up resources ressources on your computer and will free up the license used."
   ]
  },
  {
   "cell_type": "code",
   "execution_count": 5,
   "metadata": {},
   "outputs": [],
   "source": [
    "doc.stopSimulator() \n",
    "doc.closeDocument()"
   ]
  },
  {
   "cell_type": "markdown",
   "metadata": {},
   "source": [
    "## Reading and Changing Model Propertoies \n",
    "\n",
    "The `ifm.FeflowDocument` class (typically instantiated as `doc`) is the central object in an IFM script.\n",
    "\n",
    "It exposes a large number of member functions that allow making various changes in the model, these functions are members of the doc object. The following example opens the model again and reads the amount of nodes and elements from the model:"
   ]
  },
  {
   "cell_type": "code",
   "execution_count": 6,
   "metadata": {},
   "outputs": [
    {
     "name": "stdout",
     "output_type": "stream",
     "text": [
      "number of nodes:    565\n",
      "number of elements: 1043\n"
     ]
    }
   ],
   "source": [
    "doc = ifm.loadDocument(\"./example_data/BoxB.fem\")\n",
    "print(f\"number of nodes:    {doc.getNumberOfNodes()}\")\n",
    "print(f\"number of elements: {doc.getNumberOfElements()}\")"
   ]
  },
  {
   "cell_type": "markdown",
   "metadata": {},
   "source": [
    "Other functions allow aspects to the following aspects of the model (list is not complete): \n",
    "+ model properties (boundary conditions, material parameters, user and auxilliary data).\n",
    "+ initial conditions and model results\n",
    "+ discrete features\n",
    "+ budgets\n",
    "+ history charts and time series\n",
    "+ selections\n",
    "+ numerical settings\n",
    "+ particle tracing\n",
    "+ and more.\n",
    "\n",
    "A complete reference to the API can be found under [dhi.github.io/ifm](dhi.github.io/ifm)."
   ]
  },
  {
   "cell_type": "markdown",
   "metadata": {},
   "source": [
    "## Examples\n",
    "\n",
    "### Example 1: Batch Processing of FEFLOW models\n",
    "\n",
    "The following code is a simple batch executor that auto-detects all fem-files in a given folder, run the simulator for each one and save its results in a dac-file.\n",
    "\n",
    "The `glob` object is used to find all files matching its search pattern and returns a list of its file paths.\n",
    "It then iterates over the list and opens, runs, stops and closes the simulator as shown above:"
   ]
  },
  {
   "cell_type": "code",
   "execution_count": 7,
   "metadata": {},
   "outputs": [
    {
     "name": "stdout",
     "output_type": "stream",
     "text": [
      ".\\BoxB-1.fem\n",
      ".\\BoxB-2.fem\n",
      ".\\BoxB-20.fem\n",
      ".\\BoxB-4.fem\n",
      ".\\BoxB-8.fem\n"
     ]
    }
   ],
   "source": [
    "import glob\n",
    "\n",
    "# iterate filenames\n",
    "for filename in glob.glob(\"./*.fem\"):\n",
    "    print(filename)\n",
    "    \n",
    "    # open, run, stop and close model\n",
    "    doc = ifm.loadDocument(filename)\n",
    "    doc.startSimulator(filename.replace(\".fem\", \".dac\"))\n",
    "    doc.stopSimulator()\n",
    "    doc.closeDocument()"
   ]
  },
  {
   "cell_type": "markdown",
   "metadata": {},
   "source": [
    "### Example 2: Create Scenarios of the same model\n",
    "\n",
    "This example will open a feflow model, and will generate multiple scenarios by changing the pump rate of a well.\n",
    "\n",
    "The model is a simple box model (2D, confined, steady state), whith a fixed head along one of its sides and a single well in the middle.\n",
    "\n",
    "A nodal selection with name *well* is present that contains the well node as its single member. This selection will be evaluated by the script to determine the correct node number.\n",
    "\n",
    "The well rate is applied (using the `setBcFlowValueAtCurrentTime` method), then the model is saved and run.\n",
    "\n",
    "Finally, some automatic postprocesing is performed, where we iterate all nodes to find the lowest hydraulic head (=maximum drawdown). The result is printed to screen."
   ]
  },
  {
   "cell_type": "code",
   "execution_count": 8,
   "metadata": {},
   "outputs": [
    {
     "name": "stdout",
     "output_type": "stream",
     "text": [
      "1 m3/d -> -1.1705378355047595 m\n",
      "2 m3/d -> -2.341075671009519 m\n",
      "4 m3/d -> -4.682151342019038 m\n",
      "8 m3/d -> -9.364302684038076 m\n",
      "20 m3/d -> -23.410756710095185 m\n"
     ]
    }
   ],
   "source": [
    "# load the base model\n",
    "doc = ifm.loadDocument(\"./example_data/BoxB.fem\")\n",
    "\n",
    "# get the list of node indices in the 'well' selection, and then read its first (and only) member\n",
    "nodes = doc.getSelectionItems(ifm.Enum.SEL_NODAL, \"well\")\n",
    "n = nodes[0]\n",
    "\n",
    "# iterate through a list of given pumping rates to be applied\n",
    "for pump_rate_m3d in [1,2,4,8,20]:\n",
    "    \n",
    "    # set the pumping rate as the 4th kind BC value at the well\n",
    "    doc.setBcFlowValueAtCurrentTime(n, pump_rate_m3d)\n",
    "    \n",
    "    # save the document (as a fem), then run it (create a dac-file). Add the pump rate to the file names.\n",
    "    doc.saveDocument(f\"./example_data/BoxB-{pump_rate_m3d}.fem\")\n",
    "    doc.startSimulator(f\"./example_data/BoxB-{pump_rate_m3d}.dac\")\n",
    "    \n",
    "    # find the minimum head in the model for this scenario\n",
    "    min_head = 0\n",
    "    for m in range(doc.getNumberOfNodes()):\n",
    "        h = doc.getResultsFlowHeadValue(m) \n",
    "        if h < min_head:\n",
    "            min_head = h\n",
    "    print(f\"{pump_rate_m3d} m3/d -> {min_head} m\")\n",
    "    \n",
    "    # stop the simulator before going to the next iteration\n",
    "    doc.stopSimulator()\n",
    "    \n",
    "# close the document\n",
    "doc.closeDocument()"
   ]
  },
  {
   "cell_type": "markdown",
   "metadata": {},
   "source": [
    "## Code-injection at model runtime\n",
    "\n",
    "The above examples are typical pre- and postprocessing examples. In this case, FEFLOW is instructed via its IFM API to perform the desired actions. This is useful to automate the process for the sake of time savings and error prevention.\n",
    "\n",
    "A fundamentally different use case for the Python API is that it can also be applied to enhance the capabilities of FEFLOW at model runtime, meaning that additional features can programmed that are executed **during** the model run.\n",
    "\n",
    "This is possible by defining **call-back** functions, which FEFLOW will call automatically during a model run.\n",
    "\n",
    "### Example 3: Open-Loop geothermal system\n",
    "\n",
    "A typical application of this feature is the usage in an open-loop geothermal system.\n",
    "\n",
    "These kind of systems extract water from an abstraction well, add or remove heat and then reinject the water in a separate injection well. The temperature at the injection well must be calculated considering the abstraction temperature and has to be set before each time step. This procedure is coded below and injected into the simulation sequence before the heat transport model is solved. "
   ]
  },
  {
   "cell_type": "code",
   "execution_count": 9,
   "metadata": {},
   "outputs": [],
   "source": [
    "# load the same model again\n",
    "doc = ifm.loadDocument(\"./example_data/2D_heatload.fem\")\n",
    "\n",
    "# set the temperature delta here\n",
    "delta_T = 1  # K"
   ]
  },
  {
   "cell_type": "code",
   "execution_count": 10,
   "metadata": {},
   "outputs": [
    {
     "name": "stdout",
     "output_type": "stream",
     "text": [
      "node 134 -> 332\n"
     ]
    }
   ],
   "source": [
    "# get node of injection and extraction well\n",
    "n_extraction = doc.getSelectionItems(ifm.Enum.SEL_NODES, \"extraction\")[0]\n",
    "n_injection = doc.getSelectionItems(ifm.Enum.SEL_NODES, \"injection\")[0]\n",
    "print(f\"node {n_extraction} -> {n_injection}\")"
   ]
  },
  {
   "cell_type": "code",
   "execution_count": 11,
   "metadata": {},
   "outputs": [],
   "source": [
    "def postFlowSimulation(doc, phase=1):\n",
    "    \"\"\"\n",
    "    Callback function for FEFLOW\n",
    "    This updates the boundary condition after the flow simulation has finished a time step.\n",
    "    \"\"\"\n",
    "    \n",
    "    # get flow and heat budgets at wells\n",
    "    T_in = doc.getResultsTransportHeatValue(n_extraction)\n",
    "    \n",
    "    # calculate injection temperature\n",
    "    T_out = T_in + delta_T\n",
    "    \n",
    "    # apply the injection temperature as the new boundary condition \n",
    "    doc.setBcHeatValueAtCurrentTime(n_injection, T_out)\n",
    "    \n",
    "    # print Tin, Tout and simulation time to screen\n",
    "    print(f\"Tin = {T_in:.2f}C\\t -> Tout = {T_out:.2f}C \\t@ {doc.getAbsoluteSimulationTime():2f} days\")\n",
    "    "
   ]
  },
  {
   "cell_type": "markdown",
   "metadata": {},
   "source": [
    "When now starting the simulation, FEFLOW will check if the function `postFlowSimulation()` is defined, and execute it after the flow simulation step if this is the case."
   ]
  },
  {
   "cell_type": "code",
   "execution_count": 12,
   "metadata": {},
   "outputs": [
    {
     "name": "stdout",
     "output_type": "stream",
     "text": [
      "Tin = 10.00C\t -> Tout = 11.00C \t@ 0.001000 days\n",
      "Tin = 10.00C\t -> Tout = 11.00C \t@ 0.000513 days\n",
      "Tin = 10.00C\t -> Tout = 11.00C \t@ 0.000364 days\n",
      "Tin = 10.00C\t -> Tout = 11.00C \t@ 0.000305 days\n",
      "Tin = 10.00C\t -> Tout = 11.00C \t@ 0.000191 days\n",
      "Tin = 10.00C\t -> Tout = 11.00C \t@ 0.000120 days\n",
      "Tin = 10.00C\t -> Tout = 11.00C \t@ 0.000075 days\n",
      "Tin = 10.00C\t -> Tout = 11.00C \t@ 0.000047 days\n",
      "Tin = 10.00C\t -> Tout = 11.00C \t@ 0.000030 days\n",
      "Tin = 10.00C\t -> Tout = 11.00C \t@ 0.000019 days\n",
      "Tin = 10.00C\t -> Tout = 11.00C \t@ 0.000012 days\n",
      "Tin = 10.00C\t -> Tout = 11.00C \t@ 0.000007 days\n",
      "Tin = 10.00C\t -> Tout = 11.00C \t@ 0.000005 days\n",
      "Tin = 10.00C\t -> Tout = 11.00C \t@ 0.000003 days\n",
      "Tin = 10.00C\t -> Tout = 11.00C \t@ 0.000002 days\n",
      "Tin = 10.00C\t -> Tout = 11.00C \t@ 0.000001 days\n",
      "Tin = 10.00C\t -> Tout = 11.00C \t@ 0.000011 days\n",
      "Tin = 10.00C\t -> Tout = 11.00C \t@ 0.000003 days\n",
      "Tin = 10.00C\t -> Tout = 11.00C \t@ 0.000002 days\n",
      "Tin = 10.00C\t -> Tout = 11.00C \t@ 0.000002 days\n",
      "Tin = 10.00C\t -> Tout = 11.00C \t@ 0.000002 days\n",
      "Tin = 10.00C\t -> Tout = 11.00C \t@ 0.000002 days\n",
      "Tin = 10.00C\t -> Tout = 11.00C \t@ 0.000008 days\n",
      "Tin = 10.00C\t -> Tout = 11.00C \t@ 0.000029 days\n",
      "Tin = 10.00C\t -> Tout = 11.00C \t@ 0.000068 days\n",
      "Tin = 10.00C\t -> Tout = 11.00C \t@ 0.000146 days\n",
      "Tin = 10.00C\t -> Tout = 11.00C \t@ 0.000336 days\n",
      "Tin = 10.00C\t -> Tout = 11.00C \t@ 0.000765 days\n",
      "Tin = 10.00C\t -> Tout = 11.00C \t@ 0.001687 days\n",
      "Tin = 10.00C\t -> Tout = 11.00C \t@ 0.003547 days\n",
      "Tin = 10.00C\t -> Tout = 11.00C \t@ 0.007317 days\n",
      "Tin = 10.00C\t -> Tout = 11.00C \t@ 0.015091 days\n",
      "Tin = 10.00C\t -> Tout = 11.00C \t@ 0.030991 days\n",
      "Tin = 10.00C\t -> Tout = 11.00C \t@ 0.066541 days\n",
      "Tin = 10.00C\t -> Tout = 11.00C \t@ 0.145512 days\n",
      "Tin = 10.00C\t -> Tout = 11.00C \t@ 0.306339 days\n",
      "Tin = 10.00C\t -> Tout = 11.00C \t@ 0.776440 days\n",
      "Tin = 10.00C\t -> Tout = 11.00C \t@ 1.884566 days\n",
      "Tin = 10.00C\t -> Tout = 11.00C \t@ 5.117055 days\n",
      "Tin = 10.00C\t -> Tout = 11.00C \t@ 9.126817 days\n",
      "Tin = 10.00C\t -> Tout = 11.00C \t@ 14.217232 days\n",
      "Tin = 10.00C\t -> Tout = 11.00C \t@ 20.774327 days\n",
      "Tin = 10.00C\t -> Tout = 11.00C \t@ 31.416612 days\n",
      "Tin = 10.00C\t -> Tout = 11.00C \t@ 47.767654 days\n",
      "Tin = 9.99C\t -> Tout = 10.99C \t@ 73.449854 days\n",
      "Tin = 10.03C\t -> Tout = 11.03C \t@ 111.110400 days\n",
      "Tin = 10.14C\t -> Tout = 11.14C \t@ 165.011462 days\n",
      "Tin = 10.30C\t -> Tout = 11.30C \t@ 225.011462 days\n",
      "Tin = 10.43C\t -> Tout = 11.43C \t@ 285.011462 days\n",
      "Tin = 10.52C\t -> Tout = 11.52C \t@ 345.011462 days\n",
      "Tin = 10.62C\t -> Tout = 11.62C \t@ 405.011462 days\n",
      "Tin = 10.72C\t -> Tout = 11.72C \t@ 465.011462 days\n",
      "Tin = 10.81C\t -> Tout = 11.81C \t@ 525.011462 days\n",
      "Tin = 10.89C\t -> Tout = 11.89C \t@ 585.011462 days\n",
      "Tin = 10.97C\t -> Tout = 11.97C \t@ 645.011462 days\n",
      "Tin = 11.04C\t -> Tout = 12.04C \t@ 705.011462 days\n",
      "Tin = 11.10C\t -> Tout = 12.10C \t@ 765.011462 days\n",
      "Tin = 11.17C\t -> Tout = 12.17C \t@ 825.011462 days\n",
      "Tin = 11.23C\t -> Tout = 12.23C \t@ 885.011462 days\n",
      "Tin = 11.28C\t -> Tout = 12.28C \t@ 945.011462 days\n",
      "Tin = 11.33C\t -> Tout = 12.33C \t@ 1000.000000 days\n"
     ]
    }
   ],
   "source": [
    "doc.startSimulator()"
   ]
  },
  {
   "attachments": {
    "image.png": {
     "image/png": "[encoded data removed]"
    }
   },
   "cell_type": "markdown",
   "metadata": {},
   "source": [
    "Once we have made sure this code is doing what it should, it can be permanently embedded into a FEFLOW model by pasting it into the script section of the scripting menu:\n",
    "\n",
    "![image.png](attachment:image.png)\n"
   ]
  }
 ],
 "metadata": {
  "hide_input": false,
  "kernelspec": {
   "display_name": "py36_dhi_imageproc",
   "language": "python",
   "name": "py36_dhi_imageproc"
  },
  "language_info": {
   "codemirror_mode": {
    "name": "ipython",
    "version": 3
   },
   "file_extension": ".py",
   "mimetype": "text/x-python",
   "name": "python",
   "nbconvert_exporter": "python",
   "pygments_lexer": "ipython3",
   "version": "3.6.10"
  },
  "toc": {
   "nav_menu": {},
   "number_sections": true,
   "sideBar": true,
   "skip_h1_title": true,
   "toc_cell": false,
   "toc_position": {},
   "toc_section_display": "block",
   "toc_window_display": false
  },
  "varInspector": {
   "cols": {
    "lenName": 16,
    "lenType": 16,
    "lenVar": 40
   },
   "kernels_config": {
    "python": {
     "delete_cmd_postfix": "",
     "delete_cmd_prefix": "del ",
     "library": "var_list.py",
     "varRefreshCmd": "print(var_dic_list())"
    },
    "r": {
     "delete_cmd_postfix": ") ",
     "delete_cmd_prefix": "rm(",
     "library": "var_list.r",
     "varRefreshCmd": "cat(var_dic_list()) "
    }
   },
   "types_to_exclude": [
    "module",
    "function",
    "builtin_function_or_method",
    "instance",
    "_Feature"
   ],
   "window_display": false
  }
 },
 "nbformat": 4,
 "nbformat_minor": 2
}

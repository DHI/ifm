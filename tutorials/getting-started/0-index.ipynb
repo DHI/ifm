{
 "cells": [
  {
   "cell_type": "markdown",
   "metadata": {},
   "source": [
    "# Introduction: Using FEFLOWs Python API\n",
    "\n",
    "*contact: FEFLOW Support, mike.de@dhigroup.com*\n",
    "\n",
    "This introduction shows examples on how to improve productivity and extend FEFLOWs functionality using its Python API.\n",
    "\n",
    "Working with the Python API is not an alternative for the Graphical User Interface, but a companion.\n",
    "\n",
    "This tutorial is separated into the following parts:\n",
    "\n",
    "+ [Getting Started with IFM](1-getting-started-with-ifm.ipynb)\n",
    "+ [Data Wrangling with Pandas and Geopandas](2-data-wrangling-in-python.ipynb)\n",
    "+ [Visualization with Matplotlib](3-matplotlib-visualization.ipynb)\n",
    "+ [Introduction to IFM contrib](https://github.com/DHI/ifm_contrib/blob/master/doc/Notebooks/getting_started.ipynb)\n",
    "\n",
    "Note that this demo assumes that you have already basic knowledge of Python.\n",
    "\n",
    "Have a lot of fun!"
   ]
  }
 ],
 "metadata": {
  "hide_input": false,
  "kernelspec": {
   "display_name": "py36_dhi",
   "language": "python",
   "name": "py36_dhi"
  },
  "language_info": {
   "codemirror_mode": {
    "name": "ipython",
    "version": 3
   },
   "file_extension": ".py",
   "mimetype": "text/x-python",
   "name": "python",
   "nbconvert_exporter": "python",
   "pygments_lexer": "ipython3",
   "version": "3.6.10"
  },
  "toc": {
   "nav_menu": {},
   "number_sections": true,
   "sideBar": true,
   "skip_h1_title": true,
   "toc_cell": false,
   "toc_position": {},
   "toc_section_display": "block",
   "toc_window_display": false
  },
  "varInspector": {
   "cols": {
    "lenName": 16,
    "lenType": 16,
    "lenVar": 40
   },
   "kernels_config": {
    "python": {
     "delete_cmd_postfix": "",
     "delete_cmd_prefix": "del ",
     "library": "var_list.py",
     "varRefreshCmd": "print(var_dic_list())"
    },
    "r": {
     "delete_cmd_postfix": ") ",
     "delete_cmd_prefix": "rm(",
     "library": "var_list.r",
     "varRefreshCmd": "cat(var_dic_list()) "
    }
   },
   "types_to_exclude": [
    "module",
    "function",
    "builtin_function_or_method",
    "instance",
    "_Feature"
   ],
   "window_display": false
  }
 },
 "nbformat": 4,
 "nbformat_minor": 2
}
